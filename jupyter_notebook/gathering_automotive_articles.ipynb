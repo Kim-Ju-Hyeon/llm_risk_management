{
 "cells": [
  {
   "cell_type": "code",
   "execution_count": 2,
   "id": "2c63eb42-0448-437e-8d5e-bf1dcb53b6bb",
   "metadata": {},
   "outputs": [],
   "source": [
    "import os\n",
    "import pandas as pd"
   ]
  },
  {
   "cell_type": "code",
   "execution_count": 3,
   "id": "88d7e6c1-4a29-45b9-9d6c-92444774375a",
   "metadata": {},
   "outputs": [],
   "source": [
    "root_dir = '/'.join(os.getcwd().split('/')[:-1])\n",
    "text_dir = os.path.join(root_dir, 'src', 'data', 'dummy_articles', 'articles.csv')\n",
    "dummy_text = pd.read_csv(os.path.join(root_dir, 'src', 'data', 'dummy_articles', 'articles.csv'), index_col = [0])"
   ]
  },
  {
   "cell_type": "code",
   "execution_count": 9,
   "id": "ba70ce65-a4d4-4ccc-a283-ad9706416438",
   "metadata": {},
   "outputs": [],
   "source": [
    "title = \"Kia recalling 71,000 older U.S. Sportage vehicles for fire risks\"\n",
    "sub_title = \"Owners should park outside and away from structures or other vehicles until the recall is completed, according to Kia's filing with NHTSA.\"\n",
    "body = '''\n",
    "Kia America Inc. said it will recall 71,000 2008-2009 model year Sportage vehicles in the U.S. previously recalled in 2016 for fire risks and is advising owners to park outside until repairs are completed.\n",
    "\n",
    "Kia said the recall fix is currently under development that will address the risk of a fire originating from around the Hydraulic Electronic Control Unit that could occur while parked or driving.\n",
    "\n",
    "Kia has identified eight vehicle fires and 15 localized melting/damage incidents since 2017 in the Sportage crossover vehicles that had previously had the 2016 recall repairs completed.\n",
    "\n",
    "Owners should park outside and away from structures or other vehicles until the recall is completed, according to a Kia filing with the National Highway Traffic Safety Administration. Kia and NHTSA discussed the issue during monthly meetings in September and October.\n",
    "\n",
    "Kia said the cause of the \"post-recall fire incidents is unknown and still under investigation.\" The automaker said there are no fatalities, injuries or crashes associated with the incidents. Kia expects to notify owners by mail of the recall in late December.\n",
    "\n",
    "So far in 2022, Kia has issued 20 U.S. recalls affecting more than 1.35 million vehicles, according to NHTSA. That's the eighth highest among manufacturers selling vehicles in the U.S.\n",
    "'''\n",
    "\n",
    "article = [title, sub_title, body]\n",
    "\n",
    "content = '\\n'.join(article)"
   ]
  },
  {
   "cell_type": "code",
   "execution_count": 11,
   "id": "eeb1684f-66f0-4f21-a10e-3db83fcc5e1e",
   "metadata": {},
   "outputs": [],
   "source": [
    "article = {\"text\": content}\n",
    "new_row = pd.DataFrame(article, index = [0])"
   ]
  },
  {
   "cell_type": "code",
   "execution_count": 12,
   "id": "6ce9503a-c4c1-48e6-9e3d-af55c8e8e11a",
   "metadata": {},
   "outputs": [],
   "source": [
    "dummy_text = pd.concat([dummy_text, new_row])\n",
    "dummy_text.reset_index(drop=True, inplace=True)"
   ]
  },
  {
   "cell_type": "code",
   "execution_count": 20,
   "id": "94fa373f-5f79-4296-ac33-62da7acf5288",
   "metadata": {},
   "outputs": [],
   "source": [
    "dummy_text.to_csv(text_dir)"
   ]
  },
  {
   "cell_type": "code",
   "execution_count": null,
   "id": "cd294a41-a718-4185-9620-f6a3d61769fd",
   "metadata": {},
   "outputs": [],
   "source": []
  }
 ],
 "metadata": {
  "kernelspec": {
   "display_name": "Python 3 (ipykernel)",
   "language": "python",
   "name": "python3"
  },
  "language_info": {
   "codemirror_mode": {
    "name": "ipython",
    "version": 3
   },
   "file_extension": ".py",
   "mimetype": "text/x-python",
   "name": "python",
   "nbconvert_exporter": "python",
   "pygments_lexer": "ipython3",
   "version": "3.9.16"
  }
 },
 "nbformat": 4,
 "nbformat_minor": 5
}
