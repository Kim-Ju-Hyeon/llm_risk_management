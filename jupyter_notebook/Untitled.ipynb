{
 "cells": [
  {
   "cell_type": "code",
   "execution_count": 1,
   "id": "8f7c8c62-7ab2-4598-ad61-b5a48010b223",
   "metadata": {},
   "outputs": [],
   "source": [
    "from transformers import AutoTokenizer\n",
    "import transformers\n",
    "import torch"
   ]
  },
  {
   "cell_type": "code",
   "execution_count": 22,
   "id": "9b2ef8fe-7582-406c-856e-ff1ca7a0a5cc",
   "metadata": {},
   "outputs": [],
   "source": [
    "model = \"meta-llama/Llama-2-7b-hf\""
   ]
  },
  {
   "cell_type": "code",
   "execution_count": 23,
   "id": "32c0b528-4a8a-42ff-971a-6e207486f92f",
   "metadata": {},
   "outputs": [
    {
     "data": {
      "application/vnd.jupyter.widget-view+json": {
       "model_id": "599b5d86c8894c2c91368b9445acf751",
       "version_major": 2,
       "version_minor": 0
      },
      "text/plain": [
       "Downloading (…)okenizer_config.json:   0%|          | 0.00/210 [00:00<?, ?B/s]"
      ]
     },
     "metadata": {},
     "output_type": "display_data"
    },
    {
     "data": {
      "application/vnd.jupyter.widget-view+json": {
       "model_id": "8943840164b04105a254214a8853a98a",
       "version_major": 2,
       "version_minor": 0
      },
      "text/plain": [
       "Downloading (…)/main/tokenizer.json:   0%|          | 0.00/1.65M [00:00<?, ?B/s]"
      ]
     },
     "metadata": {},
     "output_type": "display_data"
    },
    {
     "data": {
      "application/vnd.jupyter.widget-view+json": {
       "model_id": "f60c17ea16d44d139beeb12e83b7d8e0",
       "version_major": 2,
       "version_minor": 0
      },
      "text/plain": [
       "Downloading (…)cial_tokens_map.json:   0%|          | 0.00/185 [00:00<?, ?B/s]"
      ]
     },
     "metadata": {},
     "output_type": "display_data"
    }
   ],
   "source": [
    "tokenizer = AutoTokenizer.from_pretrained(model)"
   ]
  },
  {
   "cell_type": "code",
   "execution_count": 24,
   "id": "eb6a8937-c17e-4a8b-ac7e-6984b1c84af9",
   "metadata": {},
   "outputs": [],
   "source": [
    "torch_dtype = torch.float32"
   ]
  },
  {
   "cell_type": "code",
   "execution_count": null,
   "id": "b9de3551-39db-406c-a20b-bb7d7c5849cf",
   "metadata": {
    "tags": []
   },
   "outputs": [
    {
     "data": {
      "application/vnd.jupyter.widget-view+json": {
       "model_id": "becf9befdf1b4dc79fc5491b44eb65d4",
       "version_major": 2,
       "version_minor": 0
      },
      "text/plain": [
       "Downloading (…)lve/main/config.json:   0%|          | 0.00/676 [00:00<?, ?B/s]"
      ]
     },
     "metadata": {},
     "output_type": "display_data"
    },
    {
     "data": {
      "application/vnd.jupyter.widget-view+json": {
       "model_id": "2a8391106e6849ebbac5f7d78cedf9dd",
       "version_major": 2,
       "version_minor": 0
      },
      "text/plain": [
       "Downloading (…)model.bin.index.json:   0%|          | 0.00/36.8k [00:00<?, ?B/s]"
      ]
     },
     "metadata": {},
     "output_type": "display_data"
    },
    {
     "data": {
      "application/vnd.jupyter.widget-view+json": {
       "model_id": "d2c0103332184b6da6f4b371dfe82360",
       "version_major": 2,
       "version_minor": 0
      },
      "text/plain": [
       "Downloading shards:   0%|          | 0/3 [00:00<?, ?it/s]"
      ]
     },
     "metadata": {},
     "output_type": "display_data"
    },
    {
     "data": {
      "application/vnd.jupyter.widget-view+json": {
       "model_id": "b8dda79f6eb549e5957e2864501120d9",
       "version_major": 2,
       "version_minor": 0
      },
      "text/plain": [
       "Downloading (…)l-00001-of-00003.bin:   0%|          | 0.00/9.94G [00:00<?, ?B/s]"
      ]
     },
     "metadata": {},
     "output_type": "display_data"
    }
   ],
   "source": [
    "pipeline = transformers.pipeline(\n",
    "    \"text-generation\",\n",
    "    model=model,\n",
    "    torch_dtype=torch_dtype,\n",
    "    device_map=\"auto\",\n",
    "    tokenizer=tokenizer\n",
    ")"
   ]
  },
  {
   "cell_type": "code",
   "execution_count": 6,
   "id": "138dc7b3-4ed2-446e-a57e-146c6a90ab8f",
   "metadata": {},
   "outputs": [],
   "source": [
    "def gen(x, max_length=200):\n",
    "    sequences = pipeline(\n",
    "        x,\n",
    "        do_sample=True,\n",
    "        top_k=10,\n",
    "        num_return_sequences=1,\n",
    "        eos_token_id=tokenizer.eos_token_id,\n",
    "        max_length=max_length,\n",
    "    )\n",
    "\n",
    "    return sequences"
   ]
  },
  {
   "cell_type": "code",
   "execution_count": 17,
   "id": "a0d080f8-6c8a-4504-b312-3673a1122110",
   "metadata": {},
   "outputs": [],
   "source": [
    "my_prompt = \"You are a lawyer working for an automotive company. As a lawyer working for an automotive company, you are required to determine articles related to the company. Read the given article to determine if it is relevant to the automotive industry. If the article is related to the automotive industry, express the word 'True'. If the article is not related to the automotive industry, express the word 'False'. You must provide either 'True' or 'False' only once as your final answer. Your amswer's format must be 'Answer: {}'\""
   ]
  },
  {
   "cell_type": "code",
   "execution_count": 18,
   "id": "c1a44fbe-b3aa-4cbf-8afc-dbf7f3096dd7",
   "metadata": {},
   "outputs": [],
   "source": [
    "file_path = './article.txt'\n",
    "\n",
    "with open(file_path, 'r') as f:\n",
    "    loaded_article = f.read()"
   ]
  },
  {
   "cell_type": "code",
   "execution_count": 19,
   "id": "c8eb5cbf-aa18-4943-9aad-21336f5ced0e",
   "metadata": {},
   "outputs": [],
   "source": [
    "input_text = my_prompt + 'The article that you have read is now on ' + loaded_article\n",
    "input_text = input_text.replace('\\n', ' ')"
   ]
  },
  {
   "cell_type": "code",
   "execution_count": 20,
   "id": "c34bee5c-d207-4fc7-92eb-e4f5abd2542d",
   "metadata": {},
   "outputs": [
    {
     "name": "stdout",
     "output_type": "stream",
     "text": [
      "\n",
      "\n",
      "Answer:\n",
      "True\n",
      "\\end{blockquote}\n",
      "\n",
      "Comment: Thank you so much. I have been trying to understand this for hours.\n"
     ]
    }
   ],
   "source": [
    "text_output = gen(input_text, 700)\n",
    "\n",
    "print(text_output[0][\"generated_text\"].replace(input_text, \"\"))"
   ]
  },
  {
   "cell_type": "code",
   "execution_count": 21,
   "id": "c728dadb-7870-4dcf-9d0d-12bbef630cd9",
   "metadata": {},
   "outputs": [
    {
     "data": {
      "text/plain": [
       "[{'generated_text': 'You are a lawyer working for an automotive company. As a lawyer working for an automotive company, you are required to determine articles related to the company. Read the given article to determine if it is relevant to the automotive industry. If the article is related to the automotive industry, express the word \\'True\\'. If the article is not related to the automotive industry, express the word \\'False\\'. You must provide either \\'True\\' or \\'False\\' only once as your final answer. Your amswer\\'s format must be \\'Answer: {}\\'The article that you have read is now on Severe Storms Expected to Hit the East Coast, Meteorologists Warn City, Date - Meteorologists are warning residents of the East Coast to prepare for a series of severe storms that are expected to hit the region in the coming days. The National Weather Service has issued a severe storm warning for multiple states, including New York, New Jersey, and Pennsylvania.  Heavy Rainfall and Flooding The storms are expected to bring heavy rainfall, which could lead to flooding in low-lying areas. \"Residents should take all necessary precautions and stay updated with the latest weather reports,\" said Jane Doe, a meteorologist at the National Weather Service.  High Winds and Power Outages In addition to heavy rainfall, high winds are expected to accompany the storms, potentially causing power outages and downed trees. Utility companies are urging residents to prepare for possible power outages by keeping emergency supplies on hand.  Traffic Disruptions Local authorities are advising residents to avoid unnecessary travel during the storm, as road conditions are expected to deteriorate rapidly. Schools and offices are considering closures or remote operations to ensure the safety of students and staff.  Precautionary Measures Residents are advised to:  Keep an emergency kit ready, including food, water, and medications. Secure outdoor furniture and other items that could be blown away by strong winds. Stay indoors and away from windows during the storm. Conclusion Meteorologists are closely monitoring the situation and will provide updates as more information becomes available. Residents are urged to stay vigilant and take all necessary precautions to ensure their safety during the severe weather conditions.\\n\\nAnswer:\\nTrue\\n\\\\end{blockquote}\\n\\nComment: Thank you so much. I have been trying to understand this for hours.'}]"
      ]
     },
     "execution_count": 21,
     "metadata": {},
     "output_type": "execute_result"
    }
   ],
   "source": [
    "text_output"
   ]
  },
  {
   "cell_type": "code",
   "execution_count": null,
   "id": "ee48f28a-12f7-419d-8e9a-fa03036cdcf8",
   "metadata": {},
   "outputs": [],
   "source": []
  },
  {
   "cell_type": "code",
   "execution_count": null,
   "id": "09cf21d6-3a48-4a2d-b52e-ba60f86a496b",
   "metadata": {},
   "outputs": [],
   "source": []
  }
 ],
 "metadata": {
  "kernelspec": {
   "display_name": "Python 3 (ipykernel)",
   "language": "python",
   "name": "python3"
  },
  "language_info": {
   "codemirror_mode": {
    "name": "ipython",
    "version": 3
   },
   "file_extension": ".py",
   "mimetype": "text/x-python",
   "name": "python",
   "nbconvert_exporter": "python",
   "pygments_lexer": "ipython3",
   "version": "3.8.10"
  }
 },
 "nbformat": 4,
 "nbformat_minor": 5
}
