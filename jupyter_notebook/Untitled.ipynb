{
 "cells": [
  {
   "cell_type": "code",
   "execution_count": 1,
   "id": "8f7c8c62-7ab2-4598-ad61-b5a48010b223",
   "metadata": {},
   "outputs": [],
   "source": [
    "from transformers import AutoTokenizer\n",
    "import transformers\n",
    "import torch"
   ]
  },
  {
   "cell_type": "code",
   "execution_count": 2,
   "id": "9b2ef8fe-7582-406c-856e-ff1ca7a0a5cc",
   "metadata": {},
   "outputs": [],
   "source": [
    "model = \"meta-llama/Llama-2-7b-hf\""
   ]
  },
  {
   "cell_type": "code",
   "execution_count": 3,
   "id": "32c0b528-4a8a-42ff-971a-6e207486f92f",
   "metadata": {},
   "outputs": [],
   "source": [
    "tokenizer = AutoTokenizer.from_pretrained(\n",
    "    model\n",
    ")"
   ]
  },
  {
   "cell_type": "code",
   "execution_count": 4,
   "id": "b9de3551-39db-406c-a20b-bb7d7c5849cf",
   "metadata": {
    "tags": []
   },
   "outputs": [
    {
     "data": {
      "application/vnd.jupyter.widget-view+json": {
       "model_id": "e3d3422b46124f6fb4be0dfc94b35391",
       "version_major": 2,
       "version_minor": 0
      },
      "text/plain": [
       "Loading checkpoint shards:   0%|          | 0/2 [00:00<?, ?it/s]"
      ]
     },
     "metadata": {},
     "output_type": "display_data"
    }
   ],
   "source": [
    "pipeline = transformers.pipeline(\n",
    "    \"text-generation\",\n",
    "    model=model,\n",
    "    torch_dtype=torch.float32,\n",
    "    device_map=\"auto\",\n",
    ")"
   ]
  },
  {
   "cell_type": "code",
   "execution_count": 5,
   "id": "632b6173-5969-43db-a878-174630da1d8c",
   "metadata": {},
   "outputs": [],
   "source": [
    "x = 'Give me reasons that Earth is round not flat'"
   ]
  },
  {
   "cell_type": "code",
   "execution_count": 7,
   "id": "6e04c7f6-2e18-431a-8c3d-242f4c1b7b52",
   "metadata": {},
   "outputs": [],
   "source": [
    "sequences = pipeline(\n",
    "        x,\n",
    "        do_sample=True,\n",
    "        top_k=10,\n",
    "        num_return_sequences=1,\n",
    "        eos_token_id=tokenizer.eos_token_id,\n",
    "        max_length=200,\n",
    "    )"
   ]
  },
  {
   "cell_type": "code",
   "execution_count": 11,
   "id": "25176888-8405-4df1-a16c-bb2ec15d4779",
   "metadata": {},
   "outputs": [
    {
     "name": "stdout",
     "output_type": "stream",
     "text": [
      "Result: Give me reasons that Earth is round not flat.\n",
      "I'm not a believer in the flat earth theory, but I'm also not a believer in the theory of evolution. I don't believe in the Big Bang theory, either. I believe that God created everything in 6 days.\n",
      "I'm not a believer in the flat earth theory, but I'm also not a believer in the theory of evolution. I don't believe in the Big Bang theory, either. I believe that God created everything in 6 days. I'm not a believer in the flat earth theory Hijacking the thread.\n",
      "I'm not a believer in the flat earth theory, but I'm also not a believer in the theory of evolution. I don't believe in the Big Bang theory, either. I believe that God created everything in 6 days. I'm not a bel\n",
      "1\n"
     ]
    }
   ],
   "source": [
    "for seq in sequences:\n",
    "    print(f\"Result: {seq['generated_text']}\")\n",
    "    print('1')"
   ]
  },
  {
   "cell_type": "code",
   "execution_count": null,
   "id": "7b31a3c6-70eb-484d-8f9b-ad9658918cf9",
   "metadata": {},
   "outputs": [],
   "source": []
  },
  {
   "cell_type": "code",
   "execution_count": null,
   "id": "9c5901a6-de55-40b5-bc17-672e2c167578",
   "metadata": {},
   "outputs": [],
   "source": []
  },
  {
   "cell_type": "code",
   "execution_count": null,
   "id": "888227b8-3562-4942-bb5a-92c922ff3dee",
   "metadata": {},
   "outputs": [],
   "source": []
  },
  {
   "cell_type": "code",
   "execution_count": null,
   "id": "138dc7b3-4ed2-446e-a57e-146c6a90ab8f",
   "metadata": {},
   "outputs": [],
   "source": [
    "def gen(x, max_length=200):\n",
    "    sequences = pipeline(\n",
    "        x,\n",
    "        do_sample=True,\n",
    "        top_k=10,\n",
    "        num_return_sequences=1,\n",
    "        eos_token_id=tokenizer.eos_token_id,\n",
    "        max_length=max_length,\n",
    "    )\n",
    "\n",
    "    return sequences[0][\"generated_text\"].replace(x, \"\")"
   ]
  },
  {
   "cell_type": "code",
   "execution_count": 6,
   "id": "6e561108-b4b6-4b4c-a6ff-3883df893f15",
   "metadata": {},
   "outputs": [
    {
     "name": "stdout",
     "output_type": "stream",
     "text": [
      "\n",
      "Korea is a country in East Asia. It is located on the Korean Peninsula. The peninsula is bordered by the Sea of Japan to the east, the Yellow Sea to the west, and the Korea Strait in the south. The northern border of Korea is with China, and the southern border is with North Korea. The capital city of Korea is Seoul.\n",
      "2. What is the population of Korea?\n",
      "The population of Korea is approximately 50 million people.\n",
      "3. What is the currency of Korea?\n",
      "The currency of Korea is the South Korean won.\n",
      "4. What is the climate of Korea?\n",
      "Korea has a temperate climate with four distinct seasons. The average temperature in summer is around 25 degrees Celsius, and in winter it is around 5 degrees Celsius.\n",
      "5. What are the main industries in Korea?\n",
      "The main industries in Korea are electronics, automobiles, shipbuilding, and textiles.\n",
      "6. What are the mainongoing events in Korea?\n",
      "The mainongoing events in Korea are the 2018 Winter Olympics, the 2018 FIFA World Cup, and the 2018 Asian Games.\n",
      "7. What are the main tourist attractions in Korea?\n",
      "The main tourist attractions in Korea are Seoul, Busan, and Jeju Island.\n",
      "8. What are the main festivals in Korea?\n",
      "The main festivals in Korea are the Lunar New Year, Chuseok, and Seollal.\n",
      "9. What are the main cuisines in Korea?\n",
      "The main cuisines in Korea are Korean barbecue, bibimbap, and kimchi.\n",
      "10. What are the main religions in Korea?\n",
      "The main religions in Korea are Buddhism, Christianity, and Confucianism.\n",
      "11. What are the main sports in Korea?\n",
      "The main sports in Korea are soccer, baseball, and basketball.\n",
      "12. What are the main languages in Korea?\n",
      "The main languages in Korea are Korean and English.\n",
      "13. What are the main airports in Korea?\n",
      "The main airports in Korea are Incheon International Airport and Gimpo International Airport.\n",
      "14. What are the main\n"
     ]
    }
   ],
   "source": [
    "print(gen(\"Can you tell me about Korea?\", 500))"
   ]
  },
  {
   "cell_type": "code",
   "execution_count": 8,
   "id": "a0d080f8-6c8a-4504-b312-3673a1122110",
   "metadata": {},
   "outputs": [],
   "source": [
    "my_prompt = 'Your task is to classify incoming texts that could be news articles, online articles, or magazine pieces. \\\n",
    "The classification should occur in two sequential stages: First Stage: Determine if the text is related to the automotive industry. \\\n",
    "If its not, the classification should return {None}. Second Stage: If the text is related to the automotive industry, ascertain whether it discusses legal issues. \\\n",
    "return {True} if the text is both about the automotive industry and involves legal matters. For all other cases, return None'"
   ]
  },
  {
   "cell_type": "code",
   "execution_count": 9,
   "id": "c1a44fbe-b3aa-4cbf-8afc-dbf7f3096dd7",
   "metadata": {},
   "outputs": [],
   "source": [
    "file_path = './article.txt'\n",
    "\n",
    "with open(file_path, 'r') as f:\n",
    "    loaded_article = f.read()"
   ]
  },
  {
   "cell_type": "code",
   "execution_count": 13,
   "id": "5d641ec3-dbf9-4ed3-b580-6ab9cdb821a0",
   "metadata": {},
   "outputs": [
    {
     "data": {
      "text/plain": [
       "'Severe Storms Expected to Hit the East Coast, Meteorologists Warn\\nCity, Date - Meteorologists are warning residents of the East Coast to prepare for a series of severe storms that are expected to hit the region in the coming days. The National Weather Service has issued a severe storm warning for multiple states, including New York, New Jersey, and Pennsylvania.\\n\\nHeavy Rainfall and Flooding\\nThe storms are expected to bring heavy rainfall, which could lead to flooding in low-lying areas. \"Residents should take all necessary precautions and stay updated with the latest weather reports,\" said Jane Doe, a meteorologist at the National Weather Service.\\n\\nHigh Winds and Power Outages\\nIn addition to heavy rainfall, high winds are expected to accompany the storms, potentially causing power outages and downed trees. Utility companies are urging residents to prepare for possible power outages by keeping emergency supplies on hand.\\n\\nTraffic Disruptions\\nLocal authorities are advising residents to avoid unnecessary travel during the storm, as road conditions are expected to deteriorate rapidly. Schools and offices are considering closures or remote operations to ensure the safety of students and staff.\\n\\nPrecautionary Measures\\nResidents are advised to:\\n\\nKeep an emergency kit ready, including food, water, and medications.\\nSecure outdoor furniture and other items that could be blown away by strong winds.\\nStay indoors and away from windows during the storm.\\nConclusion\\nMeteorologists are closely monitoring the situation and will provide updates as more information becomes available. Residents are urged to stay vigilant and take all necessary precautions to ensure their safety during the severe weather conditions.'"
      ]
     },
     "execution_count": 13,
     "metadata": {},
     "output_type": "execute_result"
    }
   ],
   "source": [
    "loaded_article"
   ]
  },
  {
   "cell_type": "code",
   "execution_count": 20,
   "id": "c8eb5cbf-aa18-4943-9aad-21336f5ced0e",
   "metadata": {},
   "outputs": [],
   "source": [
    "input_text = my_prompt + 'The article that you have classify is now on ' + loaded_article"
   ]
  },
  {
   "cell_type": "code",
   "execution_count": 21,
   "id": "a4bad32c-ad4c-423d-a5f0-f81b530cfec1",
   "metadata": {},
   "outputs": [
    {
     "data": {
      "text/plain": [
       "'Your task is to classify incoming texts that could be news articles, online articles, or magazine pieces. The classification should occur in two sequential stages: First Stage: Determine if the text is related to the automotive industry. If its not, the classification should return {None}. Second Stage: If the text is related to the automotive industry, ascertain whether it discusses legal issues. return {True} if the text is both about the automotive industry and involves legal matters. For all other cases, return NoneThe article that you have classify is now on Severe Storms Expected to Hit the East Coast, Meteorologists Warn City, Date - Meteorologists are warning residents of the East Coast to prepare for a series of severe storms that are expected to hit the region in the coming days. The National Weather Service has issued a severe storm warning for multiple states, including New York, New Jersey, and Pennsylvania.  Heavy Rainfall and Flooding The storms are expected to bring heavy rainfall, which could lead to flooding in low-lying areas. \"Residents should take all necessary precautions and stay updated with the latest weather reports,\" said Jane Doe, a meteorologist at the National Weather Service.  High Winds and Power Outages In addition to heavy rainfall, high winds are expected to accompany the storms, potentially causing power outages and downed trees. Utility companies are urging residents to prepare for possible power outages by keeping emergency supplies on hand.  Traffic Disruptions Local authorities are advising residents to avoid unnecessary travel during the storm, as road conditions are expected to deteriorate rapidly. Schools and offices are considering closures or remote operations to ensure the safety of students and staff.  Precautionary Measures Residents are advised to:  Keep an emergency kit ready, including food, water, and medications. Secure outdoor furniture and other items that could be blown away by strong winds. Stay indoors and away from windows during the storm. Conclusion Meteorologists are closely monitoring the situation and will provide updates as more information becomes available. Residents are urged to stay vigilant and take all necessary precautions to ensure their safety during the severe weather conditions.'"
      ]
     },
     "execution_count": 21,
     "metadata": {},
     "output_type": "execute_result"
    }
   ],
   "source": [
    "input_text.replace('\\n', ' ')"
   ]
  },
  {
   "cell_type": "code",
   "execution_count": 27,
   "id": "fc36c13e-b53e-44f8-a3ad-90ae80003108",
   "metadata": {},
   "outputs": [
    {
     "name": "stdout",
     "output_type": "stream",
     "text": [
      ".\n",
      "Your task is to classify incoming texts that could be news articles, online articles, or magazine pieces. The classification should occur in two sequential stages: First Stage: Determine if the text is related to the automotive industry. If its not, the classification should return {None}. Second Stage: If the text is related to the automotive industry, ascertain whether it discusses legal issues. return {True} if the text is both about the automotive industry and involves legal matters. For all other cases, return None.\n",
      "Tesla's FSD kill the man\n",
      "Your task is to classify incoming texts that could be news articles, online articles, or magazine pieces. The classification should occur in two sequential stages: First Stage: Determine if the text is related to the automotive industry. If its not,\n"
     ]
    }
   ],
   "source": [
    "print(gen(\"Tesla's FSD kill the man\" + my_prompt, 300))"
   ]
  },
  {
   "cell_type": "code",
   "execution_count": null,
   "id": "c34bee5c-d207-4fc7-92eb-e4f5abd2542d",
   "metadata": {},
   "outputs": [],
   "source": []
  }
 ],
 "metadata": {
  "kernelspec": {
   "display_name": "Python 3 (ipykernel)",
   "language": "python",
   "name": "python3"
  },
  "language_info": {
   "codemirror_mode": {
    "name": "ipython",
    "version": 3
   },
   "file_extension": ".py",
   "mimetype": "text/x-python",
   "name": "python",
   "nbconvert_exporter": "python",
   "pygments_lexer": "ipython3",
   "version": "3.8.10"
  }
 },
 "nbformat": 4,
 "nbformat_minor": 5
}
