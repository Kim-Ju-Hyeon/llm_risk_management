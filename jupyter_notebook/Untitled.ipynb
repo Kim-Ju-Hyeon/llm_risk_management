{
 "cells": [
  {
   "cell_type": "code",
   "execution_count": 1,
   "id": "8f7c8c62-7ab2-4598-ad61-b5a48010b223",
   "metadata": {},
   "outputs": [
    {
     "name": "stderr",
     "output_type": "stream",
     "text": [
      "/usr/local/lib/python3.9/site-packages/tqdm/auto.py:21: TqdmWarning: IProgress not found. Please update jupyter and ipywidgets. See https://ipywidgets.readthedocs.io/en/stable/user_install.html\n",
      "  from .autonotebook import tqdm as notebook_tqdm\n"
     ]
    }
   ],
   "source": [
    "from transformers import AutoTokenizer\n",
    "import transformers\n",
    "import torch"
   ]
  },
  {
   "cell_type": "code",
   "execution_count": 2,
   "id": "cbbe2472-c251-4c5a-83cd-fc46751b6e21",
   "metadata": {},
   "outputs": [],
   "source": [
    "import os\n",
    "# os.environ['CURL_CA_BUNDLE'] = ''"
   ]
  },
  {
   "cell_type": "code",
   "execution_count": 3,
   "id": "8c44a0a6-1c0c-4179-affc-5d25c2aa2b95",
   "metadata": {},
   "outputs": [],
   "source": [
    "from dotenv import load_dotenv\n",
    "load_dotenv()\n",
    "huggingface_token = os.getenv(\"huggingface_token\")"
   ]
  },
  {
   "cell_type": "code",
   "execution_count": 4,
   "id": "9b2ef8fe-7582-406c-856e-ff1ca7a0a5cc",
   "metadata": {},
   "outputs": [],
   "source": [
    "model = \"meta-llama/Llama-2-7b-chat-hf\""
   ]
  },
  {
   "cell_type": "code",
   "execution_count": 5,
   "id": "32c0b528-4a8a-42ff-971a-6e207486f92f",
   "metadata": {
    "tags": []
   },
   "outputs": [],
   "source": [
    "tokenizer = AutoTokenizer.from_pretrained(model, token=huggingface_token)"
   ]
  },
  {
   "cell_type": "code",
   "execution_count": 6,
   "id": "eb6a8937-c17e-4a8b-ac7e-6984b1c84af9",
   "metadata": {},
   "outputs": [],
   "source": [
    "torch_dtype = torch.float16"
   ]
  },
  {
   "cell_type": "code",
   "execution_count": 7,
   "id": "b9de3551-39db-406c-a20b-bb7d7c5849cf",
   "metadata": {
    "tags": []
   },
   "outputs": [
    {
     "name": "stderr",
     "output_type": "stream",
     "text": [
      "Loading checkpoint shards: 100%|██████████| 2/2 [00:02<00:00,  1.09s/it]\n"
     ]
    }
   ],
   "source": [
    "pipeline = transformers.pipeline(\n",
    "    \"text-generation\",\n",
    "    model=model,\n",
    "    torch_dtype=torch_dtype,\n",
    "    device='cuda:0',\n",
    "    tokenizer=tokenizer\n",
    ")"
   ]
  },
  {
   "cell_type": "code",
   "execution_count": 6,
   "id": "138dc7b3-4ed2-446e-a57e-146c6a90ab8f",
   "metadata": {},
   "outputs": [],
   "source": [
    "def gen(x, max_length=200):\n",
    "    sequences = pipeline(\n",
    "        x,\n",
    "        do_sample=True,\n",
    "        top_k=10,\n",
    "        num_return_sequences=1,\n",
    "        eos_token_id=tokenizer.eos_token_id,\n",
    "        max_length=max_length,\n",
    "    )\n",
    "\n",
    "    return sequences"
   ]
  },
  {
   "cell_type": "code",
   "execution_count": 8,
   "id": "a0d080f8-6c8a-4504-b312-3673a1122110",
   "metadata": {},
   "outputs": [],
   "source": [
    "my_prompt = \"You are a lawyer working for an automotive company. As a lawyer working for an automotive company, you are required to determine articles related to the company. Read the given article to determine if it is relevant to the automotive industry. If the article is related to the automotive industry, express the word 'True'. If the article is not related to the automotive industry, express the word 'False'. You must provide either 'True' or 'False' only once as your final answer. Your amswer's format must be 'Answer: {}'\""
   ]
  },
  {
   "cell_type": "code",
   "execution_count": 9,
   "id": "c1a44fbe-b3aa-4cbf-8afc-dbf7f3096dd7",
   "metadata": {},
   "outputs": [
    {
     "ename": "FileNotFoundError",
     "evalue": "[Errno 2] No such file or directory: './article.txt'",
     "output_type": "error",
     "traceback": [
      "\u001b[0;31m---------------------------------------------------------------------------\u001b[0m",
      "\u001b[0;31mFileNotFoundError\u001b[0m                         Traceback (most recent call last)",
      "Cell \u001b[0;32mIn[9], line 3\u001b[0m\n\u001b[1;32m      1\u001b[0m file_path \u001b[38;5;241m=\u001b[39m \u001b[38;5;124m'\u001b[39m\u001b[38;5;124m./article.txt\u001b[39m\u001b[38;5;124m'\u001b[39m\n\u001b[0;32m----> 3\u001b[0m \u001b[38;5;28;01mwith\u001b[39;00m \u001b[38;5;28;43mopen\u001b[39;49m\u001b[43m(\u001b[49m\u001b[43mfile_path\u001b[49m\u001b[43m,\u001b[49m\u001b[43m \u001b[49m\u001b[38;5;124;43m'\u001b[39;49m\u001b[38;5;124;43mr\u001b[39;49m\u001b[38;5;124;43m'\u001b[39;49m\u001b[43m)\u001b[49m \u001b[38;5;28;01mas\u001b[39;00m f:\n\u001b[1;32m      4\u001b[0m     loaded_article \u001b[38;5;241m=\u001b[39m f\u001b[38;5;241m.\u001b[39mread()\n",
      "File \u001b[0;32m/usr/local/lib/python3.9/site-packages/IPython/core/interactiveshell.py:284\u001b[0m, in \u001b[0;36m_modified_open\u001b[0;34m(file, *args, **kwargs)\u001b[0m\n\u001b[1;32m    277\u001b[0m \u001b[38;5;28;01mif\u001b[39;00m file \u001b[38;5;129;01min\u001b[39;00m {\u001b[38;5;241m0\u001b[39m, \u001b[38;5;241m1\u001b[39m, \u001b[38;5;241m2\u001b[39m}:\n\u001b[1;32m    278\u001b[0m     \u001b[38;5;28;01mraise\u001b[39;00m \u001b[38;5;167;01mValueError\u001b[39;00m(\n\u001b[1;32m    279\u001b[0m         \u001b[38;5;124mf\u001b[39m\u001b[38;5;124m\"\u001b[39m\u001b[38;5;124mIPython won\u001b[39m\u001b[38;5;124m'\u001b[39m\u001b[38;5;124mt let you open fd=\u001b[39m\u001b[38;5;132;01m{\u001b[39;00mfile\u001b[38;5;132;01m}\u001b[39;00m\u001b[38;5;124m by default \u001b[39m\u001b[38;5;124m\"\u001b[39m\n\u001b[1;32m    280\u001b[0m         \u001b[38;5;124m\"\u001b[39m\u001b[38;5;124mas it is likely to crash IPython. If you know what you are doing, \u001b[39m\u001b[38;5;124m\"\u001b[39m\n\u001b[1;32m    281\u001b[0m         \u001b[38;5;124m\"\u001b[39m\u001b[38;5;124myou can use builtins\u001b[39m\u001b[38;5;124m'\u001b[39m\u001b[38;5;124m open.\u001b[39m\u001b[38;5;124m\"\u001b[39m\n\u001b[1;32m    282\u001b[0m     )\n\u001b[0;32m--> 284\u001b[0m \u001b[38;5;28;01mreturn\u001b[39;00m \u001b[43mio_open\u001b[49m\u001b[43m(\u001b[49m\u001b[43mfile\u001b[49m\u001b[43m,\u001b[49m\u001b[43m \u001b[49m\u001b[38;5;241;43m*\u001b[39;49m\u001b[43margs\u001b[49m\u001b[43m,\u001b[49m\u001b[43m \u001b[49m\u001b[38;5;241;43m*\u001b[39;49m\u001b[38;5;241;43m*\u001b[39;49m\u001b[43mkwargs\u001b[49m\u001b[43m)\u001b[49m\n",
      "\u001b[0;31mFileNotFoundError\u001b[0m: [Errno 2] No such file or directory: './article.txt'"
     ]
    }
   ],
   "source": [
    "file_path = './article.txt'\n",
    "\n",
    "with open(file_path, 'r') as f:\n",
    "    loaded_article = f.read()"
   ]
  },
  {
   "cell_type": "code",
   "execution_count": null,
   "id": "c8eb5cbf-aa18-4943-9aad-21336f5ced0e",
   "metadata": {},
   "outputs": [],
   "source": [
    "input_text = my_prompt + 'The article that you have read is now on ' + loaded_article\n",
    "input_text = input_text.replace('\\n', ' ')"
   ]
  },
  {
   "cell_type": "code",
   "execution_count": 20,
   "id": "c34bee5c-d207-4fc7-92eb-e4f5abd2542d",
   "metadata": {},
   "outputs": [
    {
     "name": "stdout",
     "output_type": "stream",
     "text": [
      "\n",
      "\n",
      "Answer:\n",
      "True\n",
      "\\end{blockquote}\n",
      "\n",
      "Comment: Thank you so much. I have been trying to understand this for hours.\n"
     ]
    }
   ],
   "source": [
    "text_output = gen(input_text, 700)\n",
    "\n",
    "print(text_output[0][\"generated_text\"].replace(input_text, \"\"))"
   ]
  },
  {
   "cell_type": "code",
   "execution_count": 21,
   "id": "c728dadb-7870-4dcf-9d0d-12bbef630cd9",
   "metadata": {},
   "outputs": [
    {
     "data": {
      "text/plain": [
       "[{'generated_text': 'You are a lawyer working for an automotive company. As a lawyer working for an automotive company, you are required to determine articles related to the company. Read the given article to determine if it is relevant to the automotive industry. If the article is related to the automotive industry, express the word \\'True\\'. If the article is not related to the automotive industry, express the word \\'False\\'. You must provide either \\'True\\' or \\'False\\' only once as your final answer. Your amswer\\'s format must be \\'Answer: {}\\'The article that you have read is now on Severe Storms Expected to Hit the East Coast, Meteorologists Warn City, Date - Meteorologists are warning residents of the East Coast to prepare for a series of severe storms that are expected to hit the region in the coming days. The National Weather Service has issued a severe storm warning for multiple states, including New York, New Jersey, and Pennsylvania.  Heavy Rainfall and Flooding The storms are expected to bring heavy rainfall, which could lead to flooding in low-lying areas. \"Residents should take all necessary precautions and stay updated with the latest weather reports,\" said Jane Doe, a meteorologist at the National Weather Service.  High Winds and Power Outages In addition to heavy rainfall, high winds are expected to accompany the storms, potentially causing power outages and downed trees. Utility companies are urging residents to prepare for possible power outages by keeping emergency supplies on hand.  Traffic Disruptions Local authorities are advising residents to avoid unnecessary travel during the storm, as road conditions are expected to deteriorate rapidly. Schools and offices are considering closures or remote operations to ensure the safety of students and staff.  Precautionary Measures Residents are advised to:  Keep an emergency kit ready, including food, water, and medications. Secure outdoor furniture and other items that could be blown away by strong winds. Stay indoors and away from windows during the storm. Conclusion Meteorologists are closely monitoring the situation and will provide updates as more information becomes available. Residents are urged to stay vigilant and take all necessary precautions to ensure their safety during the severe weather conditions.\\n\\nAnswer:\\nTrue\\n\\\\end{blockquote}\\n\\nComment: Thank you so much. I have been trying to understand this for hours.'}]"
      ]
     },
     "execution_count": 21,
     "metadata": {},
     "output_type": "execute_result"
    }
   ],
   "source": [
    "text_output"
   ]
  },
  {
   "cell_type": "code",
   "execution_count": null,
   "id": "ee48f28a-12f7-419d-8e9a-fa03036cdcf8",
   "metadata": {},
   "outputs": [],
   "source": []
  },
  {
   "cell_type": "code",
   "execution_count": null,
   "id": "09cf21d6-3a48-4a2d-b52e-ba60f86a496b",
   "metadata": {},
   "outputs": [],
   "source": []
  }
 ],
 "metadata": {
  "kernelspec": {
   "display_name": "Python 3 (ipykernel)",
   "language": "python",
   "name": "python3"
  },
  "language_info": {
   "codemirror_mode": {
    "name": "ipython",
    "version": 3
   },
   "file_extension": ".py",
   "mimetype": "text/x-python",
   "name": "python",
   "nbconvert_exporter": "python",
   "pygments_lexer": "ipython3",
   "version": "3.9.16"
  }
 },
 "nbformat": 4,
 "nbformat_minor": 5
}
