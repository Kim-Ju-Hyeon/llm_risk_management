{
 "cells": [
  {
   "cell_type": "code",
   "execution_count": 1,
   "id": "2c63eb42-0448-437e-8d5e-bf1dcb53b6bb",
   "metadata": {},
   "outputs": [],
   "source": [
    "import os\n",
    "import pandas as pd"
   ]
  },
  {
   "cell_type": "code",
   "execution_count": 2,
   "id": "88d7e6c1-4a29-45b9-9d6c-92444774375a",
   "metadata": {},
   "outputs": [],
   "source": [
    "root_dir = '/'.join(os.getcwd().split('/')[:-2])\n",
    "text_dir = os.path.join(root_dir, 'src', 'data', 'dummy_articles', 'articles.csv')\n",
    "dummy_text = pd.read_csv(os.path.join(root_dir, 'src', 'data', 'dummy_articles', 'articles.csv'), index_col = [0])"
   ]
  },
  {
   "cell_type": "code",
   "execution_count": 10,
   "id": "ba70ce65-a4d4-4ccc-a283-ad9706416438",
   "metadata": {},
   "outputs": [],
   "source": [
    "title = \"Hyundai, Kia expect vehicle sales to jump 10% in 2023\"\n",
    "sub_title = \"Analysts said the sales target appears to be aggressive but achievable, considering pent-up demand for vehicles caused by supply chain disruption.\"\n",
    "body = '''SEOUL -- Hyundai Motor and affiliate Kia forecast that their combined global vehicle sales will jump nearly 10 percent in 2023, even as last year's sales fell short of target due to supply chain disruptions.\n",
    "The companies sold 6.85 million vehicles in 2022, about 4 percent less than their combined target of 7.16 million vehicles, largely due to problems including chip and component shortages.\n",
    "The companies said they would target global sales of 7.52 million vehicles this year.\n",
    "\"Hyundai plans to expand market share and operate profitability oriented businesses by flexibly responding to market changes, accelerating its transition to electrification, responding to global environmental regulations, and optimizing production, logistics and sales by region,\" the company said in a statement.\n",
    "Analysts said the sales targets of the two companies for this year appear to be aggressive but achievable, considering pent-up demand for vehicles.\n",
    "\"Hyundai Motor and Kia are still seeing relatively higher back orders of vehicles and car buyers are still waiting in line to buy cars despite the recent economic environment...with that demand in the picture, the companies appear to be confident,\" said Kim Gwi-yeon, an analyst at Daishin Securities.\n",
    "Kim, however, added that economic obstacles such as high interest rates could dampen car sales, especially in the second half of the year after pent-up demand softens.\n",
    "Hyundai said its 2022 global sales including its Genesis brand increased 1.4 percent year-on-year to 3.94 million units, helped by strong sales of Ioniq 5 and the successful launch of Ioniq 6. The two all-electric models together had over 100,000 units of global sales in 2022.\n",
    "Hyundai's 2023 volume target is 4.32 million.\n",
    "Kia said its global volume last year rose 4.9 percent to 2.9 million units and its target for 2023 is 3.2 million.\n",
    "The Sportage crossover topped its 2022 global sales ranking with 452,068 units sold, followed by the Seltos with 310,418 units and the Sorento with 222,570 units.'''\n",
    "\n",
    "article = [title, sub_title, body]\n",
    "\n",
    "content = '\\n'.join(article)"
   ]
  },
  {
   "cell_type": "code",
   "execution_count": 11,
   "id": "eeb1684f-66f0-4f21-a10e-3db83fcc5e1e",
   "metadata": {},
   "outputs": [],
   "source": [
    "article = {\"Category\": \"Automotive\", \"Keyword\": \"Sell Expectation\", \"Content\": content}\n",
    "new_row = pd.DataFrame(article, index = [0])"
   ]
  },
  {
   "cell_type": "code",
   "execution_count": 12,
   "id": "6ce9503a-c4c1-48e6-9e3d-af55c8e8e11a",
   "metadata": {},
   "outputs": [],
   "source": [
    "dummy_text = pd.concat([dummy_text, new_row])"
   ]
  },
  {
   "cell_type": "code",
   "execution_count": 27,
   "id": "94fa373f-5f79-4296-ac33-62da7acf5288",
   "metadata": {},
   "outputs": [],
   "source": [
    "dummy_text.to_csv(text_dir)"
   ]
  },
  {
   "cell_type": "code",
   "execution_count": null,
   "id": "69542ccd-e56d-465f-aaf7-ac0857cde088",
   "metadata": {},
   "outputs": [],
   "source": []
  }
 ],
 "metadata": {
  "kernelspec": {
   "display_name": "Python 3 (ipykernel)",
   "language": "python",
   "name": "python3"
  },
  "language_info": {
   "codemirror_mode": {
    "name": "ipython",
    "version": 3
   },
   "file_extension": ".py",
   "mimetype": "text/x-python",
   "name": "python",
   "nbconvert_exporter": "python",
   "pygments_lexer": "ipython3",
   "version": "3.9.16"
  }
 },
 "nbformat": 4,
 "nbformat_minor": 5
}
