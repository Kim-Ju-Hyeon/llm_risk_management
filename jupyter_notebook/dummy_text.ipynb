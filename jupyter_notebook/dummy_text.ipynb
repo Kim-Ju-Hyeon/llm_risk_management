{
 "cells": [
  {
   "cell_type": "code",
   "execution_count": 1,
   "id": "2c63eb42-0448-437e-8d5e-bf1dcb53b6bb",
   "metadata": {},
   "outputs": [],
   "source": [
    "import os\n",
    "import pandas as pd"
   ]
  },
  {
   "cell_type": "code",
   "execution_count": 3,
   "id": "88d7e6c1-4a29-45b9-9d6c-92444774375a",
   "metadata": {},
   "outputs": [],
   "source": [
    "root_dir = '/'.join(os.getcwd().split('/')[:-1])\n",
    "text_dir = os.path.join(root_dir, 'src', 'data', 'dummy_articles', 'articles.csv')\n",
    "dummy_text = pd.read_csv(os.path.join(root_dir, 'src', 'data', 'dummy_articles', 'articles.csv'), index_col = [0])"
   ]
  },
  {
   "cell_type": "code",
   "execution_count": 10,
   "id": "3c2b4c15-f2a2-40a8-bd89-8510cf2d0405",
   "metadata": {},
   "outputs": [
    {
     "data": {
      "text/html": [
       "<div>\n",
       "<style scoped>\n",
       "    .dataframe tbody tr th:only-of-type {\n",
       "        vertical-align: middle;\n",
       "    }\n",
       "\n",
       "    .dataframe tbody tr th {\n",
       "        vertical-align: top;\n",
       "    }\n",
       "\n",
       "    .dataframe thead th {\n",
       "        text-align: right;\n",
       "    }\n",
       "</style>\n",
       "<table border=\"1\" class=\"dataframe\">\n",
       "  <thead>\n",
       "    <tr style=\"text-align: right;\">\n",
       "      <th></th>\n",
       "      <th>Category</th>\n",
       "      <th>Keyword</th>\n",
       "      <th>Content</th>\n",
       "    </tr>\n",
       "  </thead>\n",
       "  <tbody>\n",
       "    <tr>\n",
       "      <th>0</th>\n",
       "      <td>Travel</td>\n",
       "      <td>Exotic Destinations</td>\n",
       "      <td>\\n\\nDestination: Bora Bora, French Polynesia\\n...</td>\n",
       "    </tr>\n",
       "    <tr>\n",
       "      <th>2</th>\n",
       "      <td>Technology</td>\n",
       "      <td>Artificial Intelligence in Healthcare</td>\n",
       "      <td>\\n\\nArtificial Intelligence in Healthcare: Rev...</td>\n",
       "    </tr>\n",
       "    <tr>\n",
       "      <th>3</th>\n",
       "      <td>Science</td>\n",
       "      <td>Space Exploration</td>\n",
       "      <td>\\n\\nSpace Exploration: The Future of Humanity\\...</td>\n",
       "    </tr>\n",
       "    <tr>\n",
       "      <th>4</th>\n",
       "      <td>Food and Cooking</td>\n",
       "      <td>Plant-Based Recipes</td>\n",
       "      <td>\\n\\n---\\n\\nTitle: Exploring the Flavors of Pla...</td>\n",
       "    </tr>\n",
       "    <tr>\n",
       "      <th>5</th>\n",
       "      <td>Literature</td>\n",
       "      <td>Classic Novels</td>\n",
       "      <td>\\n\\nClassic Novels: \"The Great Gatsby\" by F. S...</td>\n",
       "    </tr>\n",
       "    <tr>\n",
       "      <th>6</th>\n",
       "      <td>Personal Development</td>\n",
       "      <td>Goal Setting</td>\n",
       "      <td>\\n\\nTitle: The Power of Goal Setting: How to A...</td>\n",
       "    </tr>\n",
       "    <tr>\n",
       "      <th>7</th>\n",
       "      <td>Entertainment</td>\n",
       "      <td>Upcoming Movies 2023</td>\n",
       "      <td>\\n\\nUpcoming Movies 2023: The Year of Sequels ...</td>\n",
       "    </tr>\n",
       "    <tr>\n",
       "      <th>8</th>\n",
       "      <td>Environmental Issues</td>\n",
       "      <td>Plastic Pollution</td>\n",
       "      <td>\\n\\nAs the world grapples with the daunting ch...</td>\n",
       "    </tr>\n",
       "    <tr>\n",
       "      <th>9</th>\n",
       "      <td>Art and Creativity</td>\n",
       "      <td>Street Art Movement</td>\n",
       "      <td>\\n\\nStreet Art Movement:\\n\\nThe street art mov...</td>\n",
       "    </tr>\n",
       "    <tr>\n",
       "      <th>0</th>\n",
       "      <td>Automotive</td>\n",
       "      <td>Sell Expectation</td>\n",
       "      <td>Hyundai, Kia expect vehicle sales to jump 10% ...</td>\n",
       "    </tr>\n",
       "    <tr>\n",
       "      <th>0</th>\n",
       "      <td>Automotive</td>\n",
       "      <td>Mobis revenue growth</td>\n",
       "      <td>Hyundai Mobis sees billions in U.S. revenue gr...</td>\n",
       "    </tr>\n",
       "  </tbody>\n",
       "</table>\n",
       "</div>"
      ],
      "text/plain": [
       "               Category                                Keyword  \\\n",
       "0                Travel                    Exotic Destinations   \n",
       "2            Technology  Artificial Intelligence in Healthcare   \n",
       "3               Science                      Space Exploration   \n",
       "4      Food and Cooking                    Plant-Based Recipes   \n",
       "5            Literature                         Classic Novels   \n",
       "6  Personal Development                           Goal Setting   \n",
       "7         Entertainment                   Upcoming Movies 2023   \n",
       "8  Environmental Issues                      Plastic Pollution   \n",
       "9    Art and Creativity                    Street Art Movement   \n",
       "0            Automotive                       Sell Expectation   \n",
       "0            Automotive                   Mobis revenue growth   \n",
       "\n",
       "                                             Content  \n",
       "0  \\n\\nDestination: Bora Bora, French Polynesia\\n...  \n",
       "2  \\n\\nArtificial Intelligence in Healthcare: Rev...  \n",
       "3  \\n\\nSpace Exploration: The Future of Humanity\\...  \n",
       "4  \\n\\n---\\n\\nTitle: Exploring the Flavors of Pla...  \n",
       "5  \\n\\nClassic Novels: \"The Great Gatsby\" by F. S...  \n",
       "6  \\n\\nTitle: The Power of Goal Setting: How to A...  \n",
       "7  \\n\\nUpcoming Movies 2023: The Year of Sequels ...  \n",
       "8  \\n\\nAs the world grapples with the daunting ch...  \n",
       "9  \\n\\nStreet Art Movement:\\n\\nThe street art mov...  \n",
       "0  Hyundai, Kia expect vehicle sales to jump 10% ...  \n",
       "0  Hyundai Mobis sees billions in U.S. revenue gr...  "
      ]
     },
     "execution_count": 10,
     "metadata": {},
     "output_type": "execute_result"
    }
   ],
   "source": [
    "dummy_text"
   ]
  },
  {
   "cell_type": "code",
   "execution_count": 9,
   "id": "ba70ce65-a4d4-4ccc-a283-ad9706416438",
   "metadata": {},
   "outputs": [],
   "source": [
    "title = \"Kia recalling 71,000 older U.S. Sportage vehicles for fire risks\"\n",
    "sub_title = \"Owners should park outside and away from structures or other vehicles until the recall is completed, according to Kia's filing with NHTSA.\"\n",
    "body = '''\n",
    "Kia America Inc. said it will recall 71,000 2008-2009 model year Sportage vehicles in the U.S. previously recalled in 2016 for fire risks and is advising owners to park outside until repairs are completed.\n",
    "\n",
    "Kia said the recall fix is currently under development that will address the risk of a fire originating from around the Hydraulic Electronic Control Unit that could occur while parked or driving.\n",
    "\n",
    "Kia has identified eight vehicle fires and 15 localized melting/damage incidents since 2017 in the Sportage crossover vehicles that had previously had the 2016 recall repairs completed.\n",
    "\n",
    "Owners should park outside and away from structures or other vehicles until the recall is completed, according to a Kia filing with the National Highway Traffic Safety Administration. Kia and NHTSA discussed the issue during monthly meetings in September and October.\n",
    "\n",
    "Kia said the cause of the \"post-recall fire incidents is unknown and still under investigation.\" The automaker said there are no fatalities, injuries or crashes associated with the incidents. Kia expects to notify owners by mail of the recall in late December.\n",
    "\n",
    "So far in 2022, Kia has issued 20 U.S. recalls affecting more than 1.35 million vehicles, according to NHTSA. That's the eighth highest among manufacturers selling vehicles in the U.S.\n",
    "'''\n",
    "\n",
    "article = [title, sub_title, body]\n",
    "\n",
    "content = '\\n'.join(article)"
   ]
  },
  {
   "cell_type": "code",
   "execution_count": 11,
   "id": "eeb1684f-66f0-4f21-a10e-3db83fcc5e1e",
   "metadata": {},
   "outputs": [],
   "source": [
    "article = {\"Category\": \"Automotive\", \"Keyword\": \"KIA Fire Risk\", \"Content\": content}\n",
    "new_row = pd.DataFrame(article, index = [0])"
   ]
  },
  {
   "cell_type": "code",
   "execution_count": 12,
   "id": "6ce9503a-c4c1-48e6-9e3d-af55c8e8e11a",
   "metadata": {},
   "outputs": [],
   "source": [
    "dummy_text = pd.concat([dummy_text, new_row])\n",
    "dummy_text.reset_index(drop=True, inplace=True)"
   ]
  },
  {
   "cell_type": "code",
   "execution_count": 20,
   "id": "94fa373f-5f79-4296-ac33-62da7acf5288",
   "metadata": {},
   "outputs": [],
   "source": [
    "dummy_text.to_csv(text_dir)"
   ]
  },
  {
   "cell_type": "code",
   "execution_count": null,
   "id": "84d9767b-f05e-4439-ac9e-5bac73b43ba1",
   "metadata": {},
   "outputs": [],
   "source": []
  }
 ],
 "metadata": {
  "kernelspec": {
   "display_name": "Python 3 (ipykernel)",
   "language": "python",
   "name": "python3"
  },
  "language_info": {
   "codemirror_mode": {
    "name": "ipython",
    "version": 3
   },
   "file_extension": ".py",
   "mimetype": "text/x-python",
   "name": "python",
   "nbconvert_exporter": "python",
   "pygments_lexer": "ipython3",
   "version": "3.9.16"
  }
 },
 "nbformat": 4,
 "nbformat_minor": 5
}
