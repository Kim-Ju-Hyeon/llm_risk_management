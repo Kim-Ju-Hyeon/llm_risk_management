{
 "cells": [
  {
   "cell_type": "code",
   "execution_count": 1,
   "id": "4fcc9880-7c01-4f78-834f-312a84b0107f",
   "metadata": {},
   "outputs": [
    {
     "name": "stderr",
     "output_type": "stream",
     "text": [
      "/usr/local/lib/python3.9/site-packages/tqdm/auto.py:21: TqdmWarning: IProgress not found. Please update jupyter and ipywidgets. See https://ipywidgets.readthedocs.io/en/stable/user_install.html\n",
      "  from .autonotebook import tqdm as notebook_tqdm\n"
     ]
    }
   ],
   "source": [
    "import torch\n",
    "import transformers\n",
    "from transformers import AutoModel, AutoTokenizer, pipeline, AutoModelForSequenceClassification\n",
    "from dotenv import load_dotenv\n",
    "import pandas as pd\n",
    "import os\n",
    "from dotenv import load_dotenv\n",
    "import time\n",
    "import re\n",
    "import random"
   ]
  },
  {
   "cell_type": "code",
   "execution_count": 2,
   "id": "c04534c1-fb99-4444-94c0-fbf0e6f5773f",
   "metadata": {},
   "outputs": [],
   "source": [
    "load_dotenv()\n",
    "huggingface_token = os.getenv(\"huggingface_token\")"
   ]
  },
  {
   "cell_type": "code",
   "execution_count": 38,
   "id": "ab5d7ad4-4943-4c40-acfc-c1613a561ebe",
   "metadata": {},
   "outputs": [],
   "source": [
    "root_dir = '/'.join(os.getcwd().split('/')[:-2])\n",
    "dummy_text = pd.read_csv(os.path.join(root_dir, 'src', 'data', 'dummy_articles', 'articles.csv'))"
   ]
  },
  {
   "cell_type": "code",
   "execution_count": 4,
   "id": "84f421de-b405-443c-b8c4-4f56ff7c1b46",
   "metadata": {},
   "outputs": [
    {
     "name": "stderr",
     "output_type": "stream",
     "text": [
      "Loading checkpoint shards: 100%|██████████| 3/3 [00:04<00:00,  1.42s/it]\n"
     ]
    }
   ],
   "source": [
    "tokenizer = AutoTokenizer.from_pretrained('meta-llama/Llama-2-13b-chat-hf', token=huggingface_token)\n",
    "\n",
    "pipeline = transformers.pipeline(\n",
    "    'text-generation',\n",
    "    model='meta-llama/Llama-2-13b-chat-hf',\n",
    "    tokenizer=tokenizer,\n",
    "    torch_dtype=torch.float16,\n",
    "    device='cuda:0'\n",
    ")"
   ]
  },
  {
   "cell_type": "code",
   "execution_count": 29,
   "id": "707a0ec2-fcf5-45f7-8fd5-76c48401d494",
   "metadata": {},
   "outputs": [],
   "source": [
    "# 사용 예시\n",
    "role_prompts = [\n",
    "    \"You are a lawyer working for an automotive company. In this role, you are responsible for reviewing articles related to the automotive industry.\",\n",
    "    \"You are a legal consultant specialized in the automotive sector. Your job includes evaluating the relevance of articles pertaining to the car industry.\",\n",
    "    \"You serve as in-house counsel for a company in the automobile manufacturing sector. Part of your duties includes reviewing written content that might be related to automotive matters.\",\n",
    "    \"As an attorney working for a corporation involved in automotive technologies, you are tasked with determining the applicability of various articles to the automotive field.\"\n",
    "]\n",
    "\n",
    "step_prompts = [\n",
    "    \"Step 1 - Understand the text separated by three backticks. Step 2 - As a lawyer, determine whether the text is related to the automotive domain. Step 3 - If the text is related to the automotive domain, respond with 'True'; otherwise, respond with 'False.'\"\n",
    "]\n",
    "\n",
    "example_prompts = [\n",
    "    \"For example: <Article>: '''Article about the latest advancements in electric vehicle technology''' <Laywer>: True\",\n",
    "    \"For example: <Article>: '''Legal analysis of environmental regulations impacting automobile manufacturers''' <Lawyer>: False\",\n",
    "    \"For example: <Article>: '''Recipe for a delicious cake''' <Lawyer>: False\",\n",
    "    \"For example: <Article>: '''Comparing different types of smartphone processors''' <Lawyer>: False\"\n",
    "]\n",
    "\n",
    "last_prompts = [\n",
    "    \"Please determine whether this text is related to the automotive domain or not. <Lawyer>: \",\n",
    "    \"Review the text and determine if it is related to the automotive domain and respond True or False. <Lawyer>: \",\n",
    "    \"Please review the text and determine and respond True if it is related to the automotive domain. if not related respond False. <Lawyer>: \",\n",
    "    \"As a legal expert specializing in the automotive sector, your task is to review the text enclosed by three backticks and determine its relevance to the automotive industry. If the text is relevant, please respond with 'True.' If it is not, respond with 'False. <Lawyer>: '\"\n",
    "]"
   ]
  },
  {
   "cell_type": "code",
   "execution_count": 40,
   "id": "2a0cd362-dc2b-46c2-95d8-bffcb9d77970",
   "metadata": {},
   "outputs": [],
   "source": [
    "def answer(input_text):\n",
    "    sequences = pipeline(\n",
    "                    input_text,\n",
    "                    do_sample=True,\n",
    "                    top_k=10,\n",
    "                    num_return_sequences=1,\n",
    "                    eos_token_id=tokenizer.eos_token_id,\n",
    "                    max_length=4096,\n",
    "                    temperature=0.95,\n",
    "                    repetition_penalty=1.7,\n",
    "                    no_repeat_ngram_size=3,\n",
    "                    top_p=0.92\n",
    "            )\n",
    "    \n",
    "    return sequences[0]['generated_text'].replace(input_text, \"\")"
   ]
  },
  {
   "cell_type": "code",
   "execution_count": 41,
   "id": "966952f6-9bf5-464b-a8ab-24e30559343b",
   "metadata": {},
   "outputs": [],
   "source": [
    "def cleaning_text(text):\n",
    "    text = text.strip()  # 문장 앞뒤의 공백 제거\n",
    "    cleaned_text = re.sub(r'[^a-zA-Z\\s]', '', text)  # 알파벳과 띄어쓰기를 제외한 모든 문자 제거\n",
    "    return cleaned_text"
   ]
  },
  {
   "cell_type": "code",
   "execution_count": 42,
   "id": "25ff4546-503f-4d48-af3f-af76d51ff656",
   "metadata": {},
   "outputs": [],
   "source": [
    "def generate_input_text(role_prompts, step_prompts, example_prompts, last_prompts, article):\n",
    "    \"\"\"\n",
    "    Generate input text by randomly choosing a prompt from each category.\n",
    "    \n",
    "    Parameters:\n",
    "    role_prompts (list): List of role prompts\n",
    "    step_prompts (list): List of step prompts\n",
    "    example_prompts (list): List of example prompts\n",
    "    last_prompts (list): List of last prompts\n",
    "    article (str): The article text\n",
    "    \n",
    "    Returns:\n",
    "    str: Generated input text\n",
    "    \"\"\"\n",
    "    chosen_role_prompt = random.choice(role_prompts)\n",
    "    chosen_step_prompt = random.choice(step_prompts)\n",
    "    chosen_example_prompt = random.choice(example_prompts)\n",
    "    chosen_last_prompt = random.choice(last_prompts)\n",
    "    \n",
    "    input_text = (chosen_role_prompt + '\\n' + \n",
    "                  chosen_step_prompt + '\\n' + \n",
    "                  chosen_example_prompt + '\\n' + \n",
    "                  f\"'''{article}'''\" + '\\n' + \n",
    "                  chosen_last_prompt)\n",
    "    \n",
    "    return input_text"
   ]
  },
  {
   "cell_type": "code",
   "execution_count": 43,
   "id": "63ba3c71-29ac-47ff-82c9-6686bbf5013e",
   "metadata": {},
   "outputs": [
    {
     "name": "stderr",
     "output_type": "stream",
     "text": [
      "/usr/local/lib/python3.9/site-packages/transformers/pipelines/base.py:1083: UserWarning: You seem to be using the pipelines sequentially on GPU. In order to maximize efficiency please use a dataset\n",
      "  warnings.warn(\n"
     ]
    }
   ],
   "source": [
    "result_dict = {}\n",
    "cleaned_output_dict = {}\n",
    "\n",
    "max_tries = 50\n",
    "time_limit = 60*3\n",
    "\n",
    "\n",
    "for index, row in dummy_text.iterrows():\n",
    "    article = cleaned_text = re.sub(r'[^\\w\\s]', '', row.Content).strip()\n",
    "    start_time = time.time()\n",
    "    \n",
    "    for i in range(max_tries):\n",
    "        input_text = generate_input_text(role_prompts, step_prompts, [example_prompts[0]], last_prompts, article)\n",
    "        gen_text = answer(input_text)\n",
    "        cleaned_output = cleaning_text(gen_text)\n",
    "\n",
    "        elapsed_time = time.time() - start_time\n",
    "\n",
    "        if \"True\" in cleaned_output and \"False\" not in cleaned_output:\n",
    "            output = True\n",
    "            break\n",
    "        elif \"False\" in cleaned_output and \"True\" not in cleaned_output:\n",
    "            output = False\n",
    "            break\n",
    "        elif elapsed_time > time_limit:\n",
    "            output = None\n",
    "            break\n",
    "            \n",
    "    else:  # max_tries까지 돌고도 원하는 값을 얻지 못했을 경우\n",
    "        output = None\n",
    "        \n",
    "    result_dict[row.Category] = output\n",
    "    cleaned_output_dict[row.Category] = cleaned_output"
   ]
  },
  {
   "cell_type": "code",
   "execution_count": 44,
   "id": "916616c6-0eee-4b87-8a3d-ca7d6d4939e9",
   "metadata": {},
   "outputs": [
    {
     "data": {
      "text/plain": [
       "{'Travel': False,\n",
       " 'Technology': None,\n",
       " 'Science': False,\n",
       " 'Food and Cooking': False,\n",
       " 'Literature': False,\n",
       " 'Personal Development': False,\n",
       " 'Entertainment': False,\n",
       " 'Environmental Issues': False,\n",
       " 'Art and Creativity': False,\n",
       " 'Automotive': None}"
      ]
     },
     "execution_count": 44,
     "metadata": {},
     "output_type": "execute_result"
    }
   ],
   "source": [
    "result_dict"
   ]
  },
  {
   "cell_type": "code",
   "execution_count": 45,
   "id": "72b3a296-3032-43cb-8867-ef6693fcd3b4",
   "metadata": {},
   "outputs": [],
   "source": [
    "result_dict = {}\n",
    "cleaned_output_dict = {}\n",
    "time_limit = 60*1\n",
    "\n",
    "for index, row in dummy_text.iterrows():\n",
    "    article = cleaned_text = re.sub(r'[^\\w\\s]', '', row.Content).strip()\n",
    "    start_time = time.time()\n",
    "\n",
    "    elapsed_time = 0\n",
    "    while elapsed_time < time_limit:\n",
    "        input_text = generate_input_text(role_prompts, step_prompts, [example_prompts[0]], last_prompts, article)\n",
    "        gen_text = answer(input_text)\n",
    "        cleaned_output = cleaning_text(gen_text)\n",
    "\n",
    "        if \"True\" in cleaned_output and \"False\" not in cleaned_output:\n",
    "            output = True\n",
    "            break\n",
    "        elif \"False\" in cleaned_output and \"True\" not in cleaned_output:\n",
    "            output = False\n",
    "            break\n",
    "\n",
    "        elapsed_time = time.time() - start_time\n",
    "            \n",
    "    else:  # max_tries까지 돌고도 원하는 값을 얻지 못했을 경우\n",
    "        output = None\n",
    "\n",
    "    result_dict[row.Category] = output\n",
    "    cleaned_output_dict[row.Category] = cleaned_output"
   ]
  },
  {
   "cell_type": "code",
   "execution_count": 46,
   "id": "05d60a52-4be3-453f-86a4-85c42b4d4acf",
   "metadata": {},
   "outputs": [
    {
     "data": {
      "text/plain": [
       "{'Travel': False,\n",
       " 'Technology': False,\n",
       " 'Science': False,\n",
       " 'Food and Cooking': False,\n",
       " 'Literature': False,\n",
       " 'Personal Development': False,\n",
       " 'Entertainment': False,\n",
       " 'Environmental Issues': False,\n",
       " 'Art and Creativity': False,\n",
       " 'Automotive': False}"
      ]
     },
     "execution_count": 46,
     "metadata": {},
     "output_type": "execute_result"
    }
   ],
   "source": [
    "result_dict"
   ]
  },
  {
   "cell_type": "code",
   "execution_count": 47,
   "id": "ccf22fb0-9567-4356-9000-ca0a6c6b1870",
   "metadata": {},
   "outputs": [
    {
     "data": {
      "text/plain": [
       "{'Travel': 'False',\n",
       " 'Technology': 'False',\n",
       " 'Science': 'False',\n",
       " 'Food and Cooking': 'False',\n",
       " 'Literature': 'Falselaw',\n",
       " 'Personal Development': 'Please examine the provided content below within tildes regarding GoalSetting from wwwyourchangenow com False',\n",
       " 'Entertainment': 'False',\n",
       " 'Environmental Issues': 'False',\n",
       " 'Art and Creativity': 'False',\n",
       " 'Automotive': 'False'}"
      ]
     },
     "execution_count": 47,
     "metadata": {},
     "output_type": "execute_result"
    }
   ],
   "source": [
    "cleaned_output_dict"
   ]
  },
  {
   "cell_type": "code",
   "execution_count": null,
   "id": "164d7edc-ed26-4bb1-8d39-f96ccb6621ae",
   "metadata": {},
   "outputs": [],
   "source": []
  }
 ],
 "metadata": {
  "kernelspec": {
   "display_name": "Python 3 (ipykernel)",
   "language": "python",
   "name": "python3"
  },
  "language_info": {
   "codemirror_mode": {
    "name": "ipython",
    "version": 3
   },
   "file_extension": ".py",
   "mimetype": "text/x-python",
   "name": "python",
   "nbconvert_exporter": "python",
   "pygments_lexer": "ipython3",
   "version": "3.9.16"
  }
 },
 "nbformat": 4,
 "nbformat_minor": 5
}
