{
 "cells": [
  {
   "cell_type": "code",
   "execution_count": 1,
   "id": "b13cc155-aa30-4387-a577-69ed7b0bf041",
   "metadata": {},
   "outputs": [],
   "source": [
    "import sys\n",
    "\n",
    "sys.path.append('../src')"
   ]
  },
  {
   "cell_type": "code",
   "execution_count": 3,
   "id": "800ba7fe-8194-4777-a825-bee7807ad476",
   "metadata": {},
   "outputs": [],
   "source": [
    "import torch\n",
    "import transformers\n",
    "from transformers import AutoModel, AutoTokenizer, pipeline, AutoModelForSequenceClassification\n",
    "from dotenv import load_dotenv\n",
    "import pandas as pd\n",
    "import os\n",
    "from dotenv import load_dotenv\n",
    "import time\n",
    "import re\n",
    "import random\n",
    "from tqdm import tqdm\n",
    "\n",
    "from utils.util_fnc import *\n",
    "from models.llm import LLM"
   ]
  },
  {
   "cell_type": "code",
   "execution_count": 4,
   "id": "e5124eb0-2915-4d9e-bb82-abf30c877115",
   "metadata": {},
   "outputs": [],
   "source": [
    "load_dotenv()\n",
    "huggingface_token = os.getenv(\"huggingface_token\")\n",
    "openai_key = os.getenv(\"open_ai_key\")"
   ]
  },
  {
   "cell_type": "code",
   "execution_count": 5,
   "id": "75cf85ec-f49e-4eb6-87c4-3b2687ea836c",
   "metadata": {},
   "outputs": [],
   "source": [
    "config = load_yaml('../src/config/text_classification_config.yaml')\n",
    "config.huggingface_token = huggingface_token\n",
    "config.openai_key = openai_key\n",
    "prompt_dict = load_yaml(os.path.join(config.root_dir, 'prompt', 'first_step_prompt.yaml'))"
   ]
  },
  {
   "cell_type": "code",
   "execution_count": 6,
   "id": "5b80dd98-a2d8-4069-9c86-08d164dd32f7",
   "metadata": {},
   "outputs": [],
   "source": [
    "# dummy_news = pd.read_csv(os.path.join(config.root_dir, 'data', 'dummy_articles', 'articles.csv'), index_col=0)\n",
    "ag_news = pd.read_csv(os.path.join(config.root_dir, 'data', 'ag_news.csv'), index_col=0)\n",
    "automotive_news = pd.read_csv(os.path.join(config.root_dir, 'data', 'automotive_news.csv'), index_col=0)"
   ]
  },
  {
   "cell_type": "code",
   "execution_count": 7,
   "id": "ceafb0e5-8439-4260-8dc4-c11f12b59f17",
   "metadata": {},
   "outputs": [],
   "source": [
    "input_text = dummy_text = pd.concat([ag_news, automotive_news])\n",
    "input_text = input_text.reset_index(drop=True)"
   ]
  },
  {
   "cell_type": "code",
   "execution_count": 8,
   "id": "668818d4-5ba9-4883-85a2-bd3a2267c7a9",
   "metadata": {},
   "outputs": [
    {
     "data": {
      "application/vnd.jupyter.widget-view+json": {
       "model_id": "d8a2e19c34ed48b2a0d83fd1cee4a48b",
       "version_major": 2,
       "version_minor": 0
      },
      "text/plain": [
       "Loading checkpoint shards:   0%|          | 0/3 [00:00<?, ?it/s]"
      ]
     },
     "metadata": {},
     "output_type": "display_data"
    }
   ],
   "source": [
    "llm = LLM(config)"
   ]
  },
  {
   "cell_type": "code",
   "execution_count": 9,
   "id": "f7b2eb9c-4e93-4849-99cc-3aa295a8b8a3",
   "metadata": {},
   "outputs": [
    {
     "name": "stderr",
     "output_type": "stream",
     "text": [
      "/usr/local/lib/python3.9/site-packages/transformers/pipelines/base.py:1083: UserWarning: You seem to be using the pipelines sequentially on GPU. In order to maximize efficiency please use a dataset\n",
      "  warnings.warn(\n"
     ]
    }
   ],
   "source": [
    "result_dict = {}\n",
    "cleaned_output_dict = {}\n",
    "\n",
    "for index, row in input_text.iterrows():\n",
    "    article = re.sub(r'[^\\w\\s]', '', row.text).strip()\n",
    "\n",
    "    output, cleaned_output = llm.evaluate_text(article, prompt_dict)\n",
    "\n",
    "    result_dict[index] = output\n",
    "    cleaned_output_dict[index] = cleaned_output"
   ]
  },
  {
   "cell_type": "code",
   "execution_count": 12,
   "id": "0fda77f2-1906-4228-a0e4-e791e2cbd6d3",
   "metadata": {
    "scrolled": true
   },
   "outputs": [
    {
     "name": "stdout",
     "output_type": "stream",
     "text": [
      "Index: 23,\n",
      "Input: Rand falls on shock SA rate cut Interest rates are trimmed to 7.5 by the South African central bank,  but the lack of warning hits the rand and surprises markets.\n",
      "Cleaned Output: True This article relates to economic conditions which may affect the automative industry since they rely heavily on consumer spending power\n",
      "\n",
      "Index: 32,\n",
      "Input: Saudi Arabia to open up oil taps Saudi Arabia says it is ready to push an extra 1.3 million barrels a day of oil into the market, to help reverse surging prices.\n",
      "Cleaned Output: Saudi Aramco has announced plans to increase its crude oil production capacity to  million barrelday by  which will have direct impact on global demand for gasoline and diesel fuel used in cars Therefore i judge this article as Related to Automotive Domain so my answer would be True\n",
      "\n",
      "Index: 49,\n",
      "Input: Quality Gets Swept Away Quality Distribution is hammered after reporting a large loss for the second quarter.\n",
      "Cleaned Output: This article discusses financial performance and losses which are relevant to the auto industry since car companies need to manage their finances effectively to remain competitive True\n",
      "\n",
      "Index: 68,\n",
      "Input: BEA grabs CA exec to head product group BEA Systems Inc. has hired the Computer Associates International Inc. executive responsible for CA's Unicenter line of enterprise management software to head BEA's product development group.\n",
      "Cleaned Output: This article relates directly to teh automotove domain because it discusses the appointment of a new executive who will oversee the development of products that may potentially be used in the automative industry Therefore my response is True\n",
      "\n",
      "Index: 100,\n",
      "Input: Hyundai, Kia expect vehicle sales to jump 10% in 2023\n",
      "Analysts said the sales target appears to be aggressive but achievable, considering pent-up demand for vehicles caused by supply chain disruption.\n",
      "SEOUL -- Hyundai Motor and affiliate Kia forecast that their combined global vehicle sales will jump nearly 10 percent in 2023, even as last year's sales fell short of target due to supply chain disruptions.\n",
      "The companies sold 6.85 million vehicles in 2022, about 4 percent less than their combined target of 7.16 million vehicles, largely due to problems including chip and component shortages.\n",
      "The companies said they would target global sales of 7.52 million vehicles this year.\n",
      "\"Hyundai plans to expand market share and operate profitability oriented businesses by flexibly responding to market changes, accelerating its transition to electrification, responding to global environmental regulations, and optimizing production, logistics and sales by region,\" the company said in a statement.\n",
      "Analysts said the sales targets of the two companies for this year appear to be aggressive but achievable, considering pent-up demand for vehicles.\n",
      "\"Hyundai Motor and Kia are still seeing relatively higher back orders of vehicles and car buyers are still waiting in line to buy cars despite the recent economic environment...with that demand in the picture, the companies appear to be confident,\" said Kim Gwi-yeon, an analyst at Daishin Securities.\n",
      "Kim, however, added that economic obstacles such as high interest rates could dampen car sales, especially in the second half of the year after pent-up demand softens.\n",
      "Hyundai said its 2022 global sales including its Genesis brand increased 1.4 percent year-on-year to 3.94 million units, helped by strong sales of Ioniq 5 and the successful launch of Ioniq 6. The two all-electric models together had over 100,000 units of global sales in 2022.\n",
      "Hyundai's 2023 volume target is 4.32 million.\n",
      "Kia said its global volume last year rose 4.9 percent to 2.9 million units and its target for 2023 is 3.2 million.\n",
      "The Sportage crossover topped its 2022 global sales ranking with 452,068 units sold, followed by the Seltos with 310,418 units and the Sorento with 222,570 units.\n",
      "Cleaned Output: True\n",
      "\n",
      "Index: 101,\n",
      "Input: Hyundai Mobis sees billions in U.S. revenue growth from EVs\n",
      "Korean supplier Hyundai Mobis is already doing a brisk business in North America. But the age of EVs will lift it higher.\n",
      "Editor's note: An earlier version of this story misidentified the supplier with a banner at auto show entrance.\n",
      "DETROIT — Nontraditional customers and new products for electric vehicles — that's how Korean supplier giant Hyundai Mobis intends to more than double its size in the North American supply chain.\n",
      "With $29 billion in global sales to automakers last year, the world's sixth-largest auto supplier is embarking on a growth drive in North America, pitching some 30 new technologies to potential customers here in the next few years. It is using the Detroit auto show this week to broadcast its plan, marking the first time it has participated in the Detroit show.\n",
      "In a year when many traditional automakers have cut back on their auto show presence, suppliers have turned up he volume. A sign for Japanese parts and systems giant Aisin dominated the front of the auto show hall, while some suppliers held press conferences among the automaker displays to herald new technologies.\n",
      "Axel Maschka, Mobis executive vice president for global OE sales, used a show floor stage to proclaim that his company will achieve a 36 percent annual growth rate for the next few years as it rolls out such new EV-oriented offerings as skateboard chassis modules and a virtual-reality head-up display that allows drivers to see their correct lane illuminated as they drive. That feature should help vehicles find exit lanes more easily or isolate their correct path on multilane roads.\n",
      "Maschka said another promising technology will be a new illuminated front end, capable of doing things such as displaying custom messages to tell a bystander which parked car is their waiting Uber ride.\n",
      "Another upcoming product is a rear-wheel-drive system that will allow a large electric vehicle to turn in a tighter radius than currently possible.\n",
      "\"The growing product plans for EVs are why we expect this huge growth rate,\" Maschka told Automotive News after his auto show press conference. \"We're not like other global suppliers — we have no legacy in combustion engines. We have no exhaust systems, no transmissions, no fuel injectors. That's why we expect to grow faster than the others.\"\n",
      "Mobis was created as the parts business for Hyundai in South Korea, and the Hyundai Motor Group remains its largest customer. It already had a wide portfolio of front end modules, headlights, brakes, bumpers, steering systems and more. But Mobis has been eagerly building a new base with the Detroit 3 and other international automakers who have North American operations.\n",
      "The company is close to launching a plant in McCalla, Ala., to supply axles for EV production at a non-Korean automaker in the region. A version of its advanced virtual reality head-up display will go into an upcoming Detroit 3 vehicle. The company also has been supplying millions of complete chassis modules to Jeep.\n",
      "Without pinning himself down to precise future sales numbers, Maschka said Mobis' non-Hyundai Motor Group business in North America currently amounts to roughly $1.6 billion. But new orders equal another $1.7 billion. And after a wave of 36-percent growth years, he said noncaptive sales would reach between $4 billion and $5 billion.\n",
      "On top of that, Mobis' traditional customer Hyundai is itself scaling up its U.S. EV production. The automaker said it will invest $5.5 billion in a massive new production center in Georgia over the next three years in order to build EVs and batteries — a project that will likely lift Mobis sales even higher.\n",
      "There will be a sizable cost to getting there in terms of manufacturing investment, he acknowledged.\n",
      "\"We're almost concerned over how to lift it,\" he said. \"The investment necessary is very large.\" He would only specify a cost of \"billions.\"\n",
      "\"One challenge will be Mr. Biden's Inflation Reduction Act,\" the executive said of the new federal law that stiffly tightens the rules on how an automaker can qualify for offering consumers $7,500 tax credits on EV purchases. The new rules may compel some Mobis customers to move up their timetables to launch more EVs. That will mean Mobis would need to scramble even faster to roll out its new EV product offerings.\n",
      "\"Pulling ahead things in the U.S. will mean I can't do all the things I want to do in other regions, given manpower and resources.\"\n",
      "\n",
      "Cleaned Output: True\n",
      "\n",
      "Index: 102,\n",
      "Input: Kia recalling 71,000 older U.S. Sportage vehicles for fire risks\n",
      "Owners should park outside and away from structures or other vehicles until the recall is completed, according to Kia's filing with NHTSA.\n",
      "\n",
      "Kia America Inc. said it will recall 71,000 2008-2009 model year Sportage vehicles in the U.S. previously recalled in 2016 for fire risks and is advising owners to park outside until repairs are completed.\n",
      "\n",
      "Kia said the recall fix is currently under development that will address the risk of a fire originating from around the Hydraulic Electronic Control Unit that could occur while parked or driving.\n",
      "\n",
      "Kia has identified eight vehicle fires and 15 localized melting/damage incidents since 2017 in the Sportage crossover vehicles that had previously had the 2016 recall repairs completed.\n",
      "\n",
      "Owners should park outside and away from structures or other vehicles until the recall is completed, according to a Kia filing with the National Highway Traffic Safety Administration. Kia and NHTSA discussed the issue during monthly meetings in September and October.\n",
      "\n",
      "Kia said the cause of the \"post-recall fire incidents is unknown and still under investigation.\" The automaker said there are no fatalities, injuries or crashes associated with the incidents. Kia expects to notify owners by mail of the recall in late December.\n",
      "\n",
      "So far in 2022, Kia has issued 20 U.S. recalls affecting more than 1.35 million vehicles, according to NHTSA. That's the eighth highest among manufacturers selling vehicles in the U.S.\n",
      "\n",
      "Cleaned Output: True\n",
      "\n"
     ]
    }
   ],
   "source": [
    "true_indices = [index for index, value in result_dict.items() if value == True]\n",
    "\n",
    "for index in true_indices:\n",
    "    print(f\"Index: {index},\\nInput: {input_text.iloc[index].text}\\nCleaned Output: {cleaned_output_dict[index]}\\n\")"
   ]
  },
  {
   "cell_type": "code",
   "execution_count": 52,
   "id": "5f3b4a93-813f-4375-85e4-f8944b5f6b60",
   "metadata": {},
   "outputs": [
    {
     "name": "stderr",
     "output_type": "stream",
     "text": [
      "/usr/local/lib/python3.9/site-packages/transformers/pipelines/base.py:1083: UserWarning: You seem to be using the pipelines sequentially on GPU. In order to maximize efficiency please use a dataset\n",
      "  warnings.warn(\n"
     ]
    }
   ],
   "source": [
    "new_df = pd.DataFrame(columns=['Text', 'Automotive_domain', 'model_description_1', 'Hyundai_group', 'model_description_2', 'Mobis', 'model_description_3'])\n",
    "\n",
    "for index, row in input_text.iterrows():\n",
    "    article = re.sub(r'[^\\w\\s]', '', row.text).strip()\n",
    "    output, cleaned_output = llm.evaluate_text(article, prompt_dict)\n",
    "    \n",
    "    # 첫 번째 모델에 의한 판별\n",
    "    new_row = pd.DataFrame({'Text': [article], 'Automotive_domain': [output], 'model_description_1': [cleaned_output]})\n",
    "    new_df = pd.concat([new_df, new_row])"
   ]
  },
  {
   "cell_type": "code",
   "execution_count": 60,
   "id": "793e6de3-1425-4c0c-b106-91d149d6c4c8",
   "metadata": {},
   "outputs": [
    {
     "name": "stderr",
     "output_type": "stream",
     "text": [
      "/usr/local/lib/python3.9/site-packages/transformers/pipelines/base.py:1083: UserWarning: You seem to be using the pipelines sequentially on GPU. In order to maximize efficiency please use a dataset\n",
      "  warnings.warn(\n"
     ]
    }
   ],
   "source": [
    "# Automotive_domain이 True인 경우만 필터링\n",
    "automotive_text = new_df[new_df['Automotive_domain'] == True]\n",
    "\n",
    "for index, row in automotive_text.iterrows():\n",
    "    article = row['Text']\n",
    "    output, cleaned_output = llm.evaluate_text(article, second_prompt)\n",
    "    \n",
    "    # 두 번째 모델에 의한 판별 결과로 기존 DataFrame 업데이트\n",
    "    new_df.at[index, 'Hyundai_group'] = output\n",
    "    new_df.at[index, 'model_description_2'] = cleaned_output"
   ]
  },
  {
   "cell_type": "code",
   "execution_count": 61,
   "id": "bd064b79-fd0e-4993-bc0b-cbceccfd9e72",
   "metadata": {},
   "outputs": [
    {
     "data": {
      "text/html": [
       "<div>\n",
       "<style scoped>\n",
       "    .dataframe tbody tr th:only-of-type {\n",
       "        vertical-align: middle;\n",
       "    }\n",
       "\n",
       "    .dataframe tbody tr th {\n",
       "        vertical-align: top;\n",
       "    }\n",
       "\n",
       "    .dataframe thead th {\n",
       "        text-align: right;\n",
       "    }\n",
       "</style>\n",
       "<table border=\"1\" class=\"dataframe\">\n",
       "  <thead>\n",
       "    <tr style=\"text-align: right;\">\n",
       "      <th></th>\n",
       "      <th>Text</th>\n",
       "      <th>Automotive_domain</th>\n",
       "      <th>model_description_1</th>\n",
       "      <th>Hyundai_group</th>\n",
       "      <th>model_description_2</th>\n",
       "      <th>Mobis</th>\n",
       "      <th>model_description_3</th>\n",
       "    </tr>\n",
       "  </thead>\n",
       "  <tbody>\n",
       "    <tr>\n",
       "      <th>0</th>\n",
       "      <td>Wall St Bears Claw Back Into the Black Reuters...</td>\n",
       "      <td>False</td>\n",
       "      <td>This article does not mention anything specifi...</td>\n",
       "      <td>True</td>\n",
       "      <td>True This text relates to Kia which is part of...</td>\n",
       "      <td>NaN</td>\n",
       "      <td>NaN</td>\n",
       "    </tr>\n",
       "    <tr>\n",
       "      <th>0</th>\n",
       "      <td>Carlyle Looks Toward Commercial Aerospace Reut...</td>\n",
       "      <td>False</td>\n",
       "      <td>This article does not seem to be directly rela...</td>\n",
       "      <td>True</td>\n",
       "      <td>True This text relates to Kia which is part of...</td>\n",
       "      <td>NaN</td>\n",
       "      <td>NaN</td>\n",
       "    </tr>\n",
       "    <tr>\n",
       "      <th>0</th>\n",
       "      <td>Oil and Economy Cloud Stocks Outlook Reuters R...</td>\n",
       "      <td>False</td>\n",
       "      <td>Unrelated because there is no mention of cars ...</td>\n",
       "      <td>True</td>\n",
       "      <td>True This text relates to Kia which is part of...</td>\n",
       "      <td>NaN</td>\n",
       "      <td>NaN</td>\n",
       "    </tr>\n",
       "    <tr>\n",
       "      <th>0</th>\n",
       "      <td>Iraq Halts Oil Exports from Main Southern Pipe...</td>\n",
       "      <td>False</td>\n",
       "      <td>The article does not mention anything specific...</td>\n",
       "      <td>True</td>\n",
       "      <td>True This text relates to Kia which is part of...</td>\n",
       "      <td>NaN</td>\n",
       "      <td>NaN</td>\n",
       "    </tr>\n",
       "    <tr>\n",
       "      <th>0</th>\n",
       "      <td>Oil prices soar to alltime record posing new m...</td>\n",
       "      <td>False</td>\n",
       "      <td>This text does not relate to the auto mobile s...</td>\n",
       "      <td>True</td>\n",
       "      <td>True This text relates to Kia which is part of...</td>\n",
       "      <td>NaN</td>\n",
       "      <td>NaN</td>\n",
       "    </tr>\n",
       "    <tr>\n",
       "      <th>...</th>\n",
       "      <td>...</td>\n",
       "      <td>...</td>\n",
       "      <td>...</td>\n",
       "      <td>...</td>\n",
       "      <td>...</td>\n",
       "      <td>...</td>\n",
       "      <td>...</td>\n",
       "    </tr>\n",
       "    <tr>\n",
       "      <th>0</th>\n",
       "      <td>UK Scientists Allowed to Clone Human Embryos R...</td>\n",
       "      <td>False</td>\n",
       "      <td>This article does not mention anything about t...</td>\n",
       "      <td>True</td>\n",
       "      <td>True This text relates to Kia which is part of...</td>\n",
       "      <td>NaN</td>\n",
       "      <td>NaN</td>\n",
       "    </tr>\n",
       "    <tr>\n",
       "      <th>0</th>\n",
       "      <td>Russian Alien Spaceship Claims Raise Eyebrows ...</td>\n",
       "      <td>False</td>\n",
       "      <td>This article does not contain any information ...</td>\n",
       "      <td>True</td>\n",
       "      <td>True This text relates to Kia which is part of...</td>\n",
       "      <td>NaN</td>\n",
       "      <td>NaN</td>\n",
       "    </tr>\n",
       "    <tr>\n",
       "      <th>0</th>\n",
       "      <td>Hyundai Kia expect vehicle sales to jump 10 in...</td>\n",
       "      <td>False</td>\n",
       "      <td>This text is not directly related tp the autom...</td>\n",
       "      <td>True</td>\n",
       "      <td>True This text relates to Kia which is part of...</td>\n",
       "      <td>NaN</td>\n",
       "      <td>NaN</td>\n",
       "    </tr>\n",
       "    <tr>\n",
       "      <th>0</th>\n",
       "      <td>Hyundai Mobis sees billions in US revenue grow...</td>\n",
       "      <td>True</td>\n",
       "      <td>Based on my understanding this text discusses ...</td>\n",
       "      <td>True</td>\n",
       "      <td>True This text relates to Kia which is part of...</td>\n",
       "      <td>NaN</td>\n",
       "      <td>NaN</td>\n",
       "    </tr>\n",
       "    <tr>\n",
       "      <th>0</th>\n",
       "      <td>Kia recalling 71000 older US Sportage vehicles...</td>\n",
       "      <td>True</td>\n",
       "      <td>True</td>\n",
       "      <td>True</td>\n",
       "      <td>True This text relates to Kia which is part of...</td>\n",
       "      <td>NaN</td>\n",
       "      <td>NaN</td>\n",
       "    </tr>\n",
       "  </tbody>\n",
       "</table>\n",
       "<p>103 rows × 7 columns</p>\n",
       "</div>"
      ],
      "text/plain": [
       "                                                 Text Automotive_domain  \\\n",
       "0   Wall St Bears Claw Back Into the Black Reuters...             False   \n",
       "0   Carlyle Looks Toward Commercial Aerospace Reut...             False   \n",
       "0   Oil and Economy Cloud Stocks Outlook Reuters R...             False   \n",
       "0   Iraq Halts Oil Exports from Main Southern Pipe...             False   \n",
       "0   Oil prices soar to alltime record posing new m...             False   \n",
       "..                                                ...               ...   \n",
       "0   UK Scientists Allowed to Clone Human Embryos R...             False   \n",
       "0   Russian Alien Spaceship Claims Raise Eyebrows ...             False   \n",
       "0   Hyundai Kia expect vehicle sales to jump 10 in...             False   \n",
       "0   Hyundai Mobis sees billions in US revenue grow...              True   \n",
       "0   Kia recalling 71000 older US Sportage vehicles...              True   \n",
       "\n",
       "                                  model_description_1 Hyundai_group  \\\n",
       "0   This article does not mention anything specifi...          True   \n",
       "0   This article does not seem to be directly rela...          True   \n",
       "0   Unrelated because there is no mention of cars ...          True   \n",
       "0   The article does not mention anything specific...          True   \n",
       "0   This text does not relate to the auto mobile s...          True   \n",
       "..                                                ...           ...   \n",
       "0   This article does not mention anything about t...          True   \n",
       "0   This article does not contain any information ...          True   \n",
       "0   This text is not directly related tp the autom...          True   \n",
       "0   Based on my understanding this text discusses ...          True   \n",
       "0                                                True          True   \n",
       "\n",
       "                                  model_description_2 Mobis  \\\n",
       "0   True This text relates to Kia which is part of...   NaN   \n",
       "0   True This text relates to Kia which is part of...   NaN   \n",
       "0   True This text relates to Kia which is part of...   NaN   \n",
       "0   True This text relates to Kia which is part of...   NaN   \n",
       "0   True This text relates to Kia which is part of...   NaN   \n",
       "..                                                ...   ...   \n",
       "0   True This text relates to Kia which is part of...   NaN   \n",
       "0   True This text relates to Kia which is part of...   NaN   \n",
       "0   True This text relates to Kia which is part of...   NaN   \n",
       "0   True This text relates to Kia which is part of...   NaN   \n",
       "0   True This text relates to Kia which is part of...   NaN   \n",
       "\n",
       "   model_description_3  \n",
       "0                  NaN  \n",
       "0                  NaN  \n",
       "0                  NaN  \n",
       "0                  NaN  \n",
       "0                  NaN  \n",
       "..                 ...  \n",
       "0                  NaN  \n",
       "0                  NaN  \n",
       "0                  NaN  \n",
       "0                  NaN  \n",
       "0                  NaN  \n",
       "\n",
       "[103 rows x 7 columns]"
      ]
     },
     "execution_count": 61,
     "metadata": {},
     "output_type": "execute_result"
    }
   ],
   "source": [
    "new_df"
   ]
  },
  {
   "cell_type": "code",
   "execution_count": null,
   "id": "435ab20e-6218-4efc-ab54-18f4c9eff22b",
   "metadata": {},
   "outputs": [],
   "source": []
  }
 ],
 "metadata": {
  "kernelspec": {
   "display_name": "Python 3 (ipykernel)",
   "language": "python",
   "name": "python3"
  },
  "language_info": {
   "codemirror_mode": {
    "name": "ipython",
    "version": 3
   },
   "file_extension": ".py",
   "mimetype": "text/x-python",
   "name": "python",
   "nbconvert_exporter": "python",
   "pygments_lexer": "ipython3",
   "version": "3.9.16"
  }
 },
 "nbformat": 4,
 "nbformat_minor": 5
}
