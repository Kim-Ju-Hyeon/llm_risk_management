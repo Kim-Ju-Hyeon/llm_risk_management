{
 "cells": [
  {
   "cell_type": "code",
   "execution_count": 1,
   "metadata": {},
   "outputs": [],
   "source": [
    "import os\n",
    "import openai\n",
    "from dotenv import load_dotenv\n",
    "import time\n",
    "import re\n",
    "import random\n",
    "import pandas as pd"
   ]
  },
  {
   "cell_type": "code",
   "execution_count": 2,
   "metadata": {},
   "outputs": [],
   "source": [
    "load_dotenv()\n",
    "key = os.getenv(\"open_ai_key\")"
   ]
  },
  {
   "cell_type": "code",
   "execution_count": 3,
   "metadata": {},
   "outputs": [],
   "source": [
    "openai.api_key = key\n",
    "completion = openai.Completion()"
   ]
  },
  {
   "cell_type": "code",
   "execution_count": 4,
   "metadata": {},
   "outputs": [],
   "source": [
    "max_tokens = 64\n",
    "temperature = 0.9\n",
    "top_p = 1.0\n",
    "best_of = 1\n",
    "\n",
    "stop = [\"\\n\"]"
   ]
  },
  {
   "cell_type": "code",
   "execution_count": 5,
   "metadata": {},
   "outputs": [],
   "source": [
    "root_dir = '/'.join(os.getcwd().split('/')[:-2])\n",
    "dummy_text = pd.read_csv(os.path.join(root_dir, 'src', 'data', 'dummy_articles', 'articles.csv'))"
   ]
  },
  {
   "cell_type": "code",
   "execution_count": 6,
   "metadata": {},
   "outputs": [],
   "source": [
    "# 사용 예시\n",
    "role_prompts = [\n",
    "    \"You are a lawyer working for an automotive company. In this role, you are responsible for reviewing articles related to the automotive industry.\",\n",
    "    \"You are a legal consultant specialized in the automotive sector. Your job includes evaluating the relevance of articles pertaining to the car industry.\",\n",
    "    \"You serve as in-house counsel for a company in the automobile manufacturing sector. Part of your duties includes reviewing written content that might be related to automotive matters.\",\n",
    "    \"As an attorney working for a corporation involved in automotive technologies, you are tasked with determining the applicability of various articles to the automotive field.\"\n",
    "]\n",
    "\n",
    "step_prompts = [\n",
    "    \"Step 1 - Understand the text separated by three backticks. Step 2 - As a lawyer, determine whether the text is related to the automotive domain. Step 3 - If the text is related to the automotive domain, respond with 'True'; otherwise, respond with 'False.'\"\n",
    "]\n",
    "\n",
    "example_prompts = [\n",
    "    \"For example: <Article>: '''Article about the latest advancements in electric vehicle technology''' <Laywer>: True\",\n",
    "    \"For example: <Article>: '''Legal analysis of environmental regulations impacting automobile manufacturers''' <Lawyer>: False\",\n",
    "    \"For example: <Article>: '''Recipe for a delicious cake''' <Lawyer>: False\",\n",
    "    \"For example: <Article>: '''Comparing different types of smartphone processors''' <Lawyer>: False\"\n",
    "]\n",
    "\n",
    "last_prompts = [\n",
    "    \"Please determine whether this text is related to the automotive domain or not. <Lawyer>: \",\n",
    "    \"Review the text and determine if it is related to the automotive domain and respond True or False. <Lawyer>: \",\n",
    "    \"Please review the text and determine and respond True if it is related to the automotive domain. if not related respond False. <Lawyer>: \",\n",
    "    \"As a legal expert specializing in the automotive sector, your task is to review the text enclosed by three backticks and determine its relevance to the automotive industry. If the text is relevant, please respond with 'True.' If it is not, respond with 'False. <Lawyer>: '\"\n",
    "]"
   ]
  },
  {
   "cell_type": "code",
   "execution_count": 7,
   "metadata": {},
   "outputs": [],
   "source": [
    "def cleaning_text(text):\n",
    "    text = text.strip()  # 문장 앞뒤의 공백 제거\n",
    "    cleaned_text = re.sub(r'[^a-zA-Z\\s]', '', text)  # 알파벳과 띄어쓰기를 제외한 모든 문자 제거\n",
    "    return cleaned_text"
   ]
  },
  {
   "cell_type": "code",
   "execution_count": 8,
   "metadata": {},
   "outputs": [],
   "source": [
    "def generate_input_text(role_prompts, step_prompts, example_prompts, last_prompts, article):\n",
    "    \"\"\"\n",
    "    Generate input text by randomly choosing a prompt from each category.\n",
    "    \n",
    "    Parameters:\n",
    "    role_prompts (list): List of role prompts\n",
    "    step_prompts (list): List of step prompts\n",
    "    example_prompts (list): List of example prompts\n",
    "    last_prompts (list): List of last prompts\n",
    "    article (str): The article text\n",
    "    \n",
    "    Returns:\n",
    "    str: Generated input text\n",
    "    \"\"\"\n",
    "    chosen_role_prompt = random.choice(role_prompts)\n",
    "    chosen_step_prompt = random.choice(step_prompts)\n",
    "    chosen_example_prompt = random.choice(example_prompts)\n",
    "    chosen_last_prompt = random.choice(last_prompts)\n",
    "    \n",
    "    input_text = (chosen_role_prompt + '\\n' + \n",
    "                  chosen_step_prompt + '\\n' + \n",
    "                  chosen_example_prompt + '\\n' + \n",
    "                  f\"'''{article}'''\" + '\\n' + \n",
    "                  chosen_last_prompt)\n",
    "    \n",
    "    return input_text"
   ]
  },
  {
   "cell_type": "code",
   "execution_count": 13,
   "metadata": {},
   "outputs": [],
   "source": [
    "def answer(input_text):\n",
    "    response = completion.create(\n",
    "        prompt = input_text,\n",
    "        model='text-davinci-003',\n",
    "        max_tokens=max_tokens,\n",
    "        stop=stop,\n",
    "        temperature=temperature,\n",
    "        top_p=top_p,\n",
    "        best_of=best_of\n",
    "    )\n",
    "\n",
    "    return response"
   ]
  },
  {
   "cell_type": "code",
   "execution_count": 26,
   "metadata": {},
   "outputs": [],
   "source": [
    "result_dict = {}\n",
    "cleaned_output_dict = {}\n",
    "time_limit = 60*1\n",
    "used_token = 0\n",
    "\n",
    "for index, row in dummy_text.iterrows():\n",
    "    article = cleaned_text = re.sub(r'[^\\w\\s]', '', row.Content).strip()\n",
    "    start_time = time.time()\n",
    "\n",
    "    elapsed_time = 0\n",
    "    while elapsed_time < time_limit:\n",
    "        input_text = generate_input_text(role_prompts, step_prompts, [example_prompts[0]], last_prompts, article)\n",
    "        response = answer(input_text)\n",
    "\n",
    "        output = response['choices'][0]['text']\n",
    "        used_token += int(response['usage']['total_tokens'])\n",
    "\n",
    "        cleaned_output = cleaning_text(output)\n",
    "\n",
    "        if \"True\" in cleaned_output and \"False\" not in cleaned_output:\n",
    "            output = True\n",
    "            break\n",
    "        elif \"False\" in cleaned_output and \"True\" not in cleaned_output:\n",
    "            output = False\n",
    "            break\n",
    "\n",
    "        elapsed_time = time.time() - start_time\n",
    "            \n",
    "    else:  # max_tries까지 돌고도 원하는 값을 얻지 못했을 경우\n",
    "        output = None\n",
    "\n",
    "    result_dict[row.Category] = output\n",
    "    cleaned_output_dict[row.Category] = cleaned_output"
   ]
  },
  {
   "cell_type": "code",
   "execution_count": 27,
   "metadata": {},
   "outputs": [
    {
     "data": {
      "text/plain": [
       "{'Travel': False,\n",
       " 'Technology': False,\n",
       " 'Science': False,\n",
       " 'Food and Cooking': False,\n",
       " 'Literature': False,\n",
       " 'Personal Development': False,\n",
       " 'Entertainment': False,\n",
       " 'Environmental Issues': False,\n",
       " 'Art and Creativity': False,\n",
       " 'Automotive': True}"
      ]
     },
     "execution_count": 27,
     "metadata": {},
     "output_type": "execute_result"
    }
   ],
   "source": [
    "result_dict"
   ]
  },
  {
   "cell_type": "code",
   "execution_count": 28,
   "metadata": {},
   "outputs": [
    {
     "data": {
      "text/plain": [
       "{'Travel': 'False',\n",
       " 'Technology': 'False',\n",
       " 'Science': 'False',\n",
       " 'Food and Cooking': 'False',\n",
       " 'Literature': 'False',\n",
       " 'Personal Development': 'False',\n",
       " 'Entertainment': 'False',\n",
       " 'Environmental Issues': 'False',\n",
       " 'Art and Creativity': 'False',\n",
       " 'Automotive': 'True'}"
      ]
     },
     "execution_count": 28,
     "metadata": {},
     "output_type": "execute_result"
    }
   ],
   "source": [
    "cleaned_output_dict"
   ]
  },
  {
   "cell_type": "code",
   "execution_count": 29,
   "metadata": {},
   "outputs": [
    {
     "data": {
      "text/plain": [
       "5897"
      ]
     },
     "execution_count": 29,
     "metadata": {},
     "output_type": "execute_result"
    }
   ],
   "source": [
    "used_token"
   ]
  },
  {
   "cell_type": "code",
   "execution_count": null,
   "metadata": {},
   "outputs": [],
   "source": []
  }
 ],
 "metadata": {
  "kernelspec": {
   "display_name": "Python 3 (ipykernel)",
   "language": "python",
   "name": "python3"
  },
  "language_info": {
   "codemirror_mode": {
    "name": "ipython",
    "version": 3
   },
   "file_extension": ".py",
   "mimetype": "text/x-python",
   "name": "python",
   "nbconvert_exporter": "python",
   "pygments_lexer": "ipython3",
   "version": "3.9.16"
  }
 },
 "nbformat": 4,
 "nbformat_minor": 4
}
